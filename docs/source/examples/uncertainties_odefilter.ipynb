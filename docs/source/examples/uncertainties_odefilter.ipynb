{
 "cells": [
  {
   "cell_type": "markdown",
   "metadata": {},
   "source": [
    "# How meaningful are Gaussian ODE filter uncertainties?\n",
    "\n",
    "We investigate whether the uncertaintes returned by Gaussian ODE Filters are meaningful as actual error estimates---or even better?\n"
   ]
  },
  {
   "cell_type": "code",
   "execution_count": 1,
   "metadata": {},
   "outputs": [],
   "source": [
    "# Make inline plots vector graphics instead of raster graphics\n",
    "%matplotlib inline\n",
    "from IPython.display import set_matplotlib_formats\n",
    "set_matplotlib_formats('pdf', 'svg')\n",
    "\n",
    "# Plotting\n",
    "import matplotlib.pyplot as plt\n",
    "#plt.rcParams['figure.figsize'] = [9.5, 6]\n",
    "plt.rcParams['font.size'] = 18 \n",
    "plt.rcParams['text.usetex'] = True\n",
    "plt.rcParams['text.latex.preamble'] = [r'\\usepackage{amsfonts}', r'\\usepackage{amsmath}']"
   ]
  },
  {
   "cell_type": "code",
   "execution_count": 2,
   "metadata": {},
   "outputs": [
    {
     "ename": "ModuleNotFoundError",
     "evalue": "No module named 'diffeq'",
     "output_type": "error",
     "traceback": [
      "\u001b[0;31m---------------------------------------------------------------------------\u001b[0m",
      "\u001b[0;31mModuleNotFoundError\u001b[0m                       Traceback (most recent call last)",
      "\u001b[0;32m<ipython-input-2-c5c5f8a2f095>\u001b[0m in \u001b[0;36m<module>\u001b[0;34m\u001b[0m\n\u001b[1;32m      2\u001b[0m \u001b[0;32mimport\u001b[0m \u001b[0mnumpy\u001b[0m \u001b[0;32mas\u001b[0m \u001b[0mnp\u001b[0m\u001b[0;34m\u001b[0m\u001b[0;34m\u001b[0m\u001b[0m\n\u001b[1;32m      3\u001b[0m \u001b[0;34m\u001b[0m\u001b[0m\n\u001b[0;32m----> 4\u001b[0;31m \u001b[0;32mfrom\u001b[0m \u001b[0mdiffeq\u001b[0m\u001b[0;34m.\u001b[0m\u001b[0mrandomvariable\u001b[0m \u001b[0;32mimport\u001b[0m \u001b[0mgaussian\u001b[0m\u001b[0;34m\u001b[0m\u001b[0;34m\u001b[0m\u001b[0m\n\u001b[0m\u001b[1;32m      5\u001b[0m \u001b[0;32mfrom\u001b[0m \u001b[0mdiffeq\u001b[0m\u001b[0;34m.\u001b[0m\u001b[0msolver\u001b[0m \u001b[0;32mimport\u001b[0m \u001b[0mode\u001b[0m\u001b[0;34m,\u001b[0m \u001b[0modefilter\u001b[0m\u001b[0;34m\u001b[0m\u001b[0;34m\u001b[0m\u001b[0m\n",
      "\u001b[0;31mModuleNotFoundError\u001b[0m: No module named 'diffeq'"
     ]
    }
   ],
   "source": [
    "import matplotlib.pyplot as plt\n",
    "import numpy as np\n",
    "\n",
    "from diffeq.randomvariable import gaussian\n",
    "from diffeq.solver import ode, odefilter"
   ]
  },
  {
   "cell_type": "markdown",
   "metadata": {},
   "source": [
    "We start with the Lotka-Volterra equations"
   ]
  },
  {
   "cell_type": "code",
   "execution_count": null,
   "metadata": {},
   "outputs": [],
   "source": [
    "initdist = gaussian.MultivariateGaussian(np.array([20., 20.]), np.eye(2)*0.0)\n",
    "\n",
    "lv = ode.lotkavolterra([0., 50.], initdist)"
   ]
  },
  {
   "cell_type": "markdown",
   "metadata": {},
   "source": [
    "The Kalman ODE filter is quite fast and flexible, but does not yield accurate uncertainty estimates. We see below that the uncertainty increases monotonously, independent on the actual peaks and valleys of the ODE solution.\n",
    "\n",
    "It is not surprising that the Kalman solution is agnostic of the trajectory. In fact, the covariance of the Kalman filter is independent of the data and as such, we cannot expect it to return useful uncertainty."
   ]
  },
  {
   "cell_type": "code",
   "execution_count": null,
   "metadata": {},
   "outputs": [],
   "source": [
    "ms, cs, ts = odefilter.solve_filter_h(lv, 0.001, which_filt=\"kf\", which_prior=\"ibm1\")"
   ]
  },
  {
   "cell_type": "code",
   "execution_count": null,
   "metadata": {},
   "outputs": [],
   "source": [
    "std1 = np.sqrt(cs[:, 0, 0])\n",
    "std2 = np.sqrt(cs[:, 2, 2])\n",
    "\n",
    "fig, (ax1, ax2) = plt.subplots(nrows=2, ncols=1, sharex=True)\n",
    "ax1.plot(ts, ms[:, 0], label=\"x1\")\n",
    "ax1.plot(ts, ms[:, 2], label=\"x2\")\n",
    "ax1.legend()\n",
    "ax2.fill_between(ts,std1, alpha=0.25, label=\"x1-unc.\")\n",
    "ax2.fill_between(ts,std2, alpha=0.25, label=\"x2-unc.\")\n",
    "ax2.legend()\n",
    "fig.suptitle(\"Kalman Filter\")\n",
    "plt.show()"
   ]
  },
  {
   "cell_type": "markdown",
   "metadata": {},
   "source": [
    "If instead of the Kalman filter, we use the Extended Kalman filter, the uncertainties are not independent of the measurements (information about $f$ enters the covariance via $\\nabla f$ in the measurement model). We can see that in the uncertainty plot below."
   ]
  },
  {
   "cell_type": "code",
   "execution_count": null,
   "metadata": {},
   "outputs": [],
   "source": [
    "ms, cs, ts = odefilter.solve_filter_h(lv, 0.001, which_filt=\"ekf\", which_prior=\"ibm1\")"
   ]
  },
  {
   "cell_type": "code",
   "execution_count": null,
   "metadata": {},
   "outputs": [],
   "source": [
    "std1 = np.sqrt(cs[:, 0, 0])\n",
    "std2 = np.sqrt(cs[:, 2, 2])\n",
    "\n",
    "fig, (ax1, ax2) = plt.subplots(nrows=2, ncols=1, sharex=True)\n",
    "ax1.plot(ts, ms[:, 0], label=\"x1\")\n",
    "ax1.plot(ts, ms[:, 2], label=\"x2\")\n",
    "ax1.legend()\n",
    "ax2.fill_between(ts,std1, alpha=0.25, label=\"x1-unc.\")\n",
    "ax2.fill_between(ts,std2, alpha=0.25, label=\"x2-unc.\")\n",
    "ax2.legend()\n",
    "fig.suptitle(\"Extended Kalman Filter\")\n",
    "plt.show()"
   ]
  },
  {
   "cell_type": "markdown",
   "metadata": {},
   "source": [
    "Notice that the uncertainties are aware of the peaks and valleys. They even know whether the peak is flat (rhs of blue, lhs of orange; smaller ones of the blue peaks) or steep. On top of that, they increase over time."
   ]
  },
  {
   "cell_type": "code",
   "execution_count": null,
   "metadata": {},
   "outputs": [],
   "source": []
  },
  {
   "cell_type": "code",
   "execution_count": null,
   "metadata": {},
   "outputs": [],
   "source": [
    "initdist = gaussian.MultivariateGaussian(np.array([20., 20.]), np.eye(2)*0.0)\n",
    "\n",
    "lv = ode.lotkavolterra([0., 37.], initdist)\n",
    "ms, cs, ts = odefilter.solve_filter_h(lv, 0.001, which_filt=\"ekf\", which_prior=\"ibm1\")"
   ]
  },
  {
   "cell_type": "code",
   "execution_count": null,
   "metadata": {},
   "outputs": [],
   "source": [
    "# This is for the IMPRS talk\n",
    "\n",
    "plt.rcParams.update({'font.size': 22})\n",
    "\n",
    "\n",
    "std1 = np.sqrt(cs[:, 0, 0])\n",
    "std2 = np.sqrt(cs[:, 2, 2])\n",
    "\n",
    "fig, (ax1, ax2) = plt.subplots(nrows=2, ncols=1, figsize=(16,9), sharex=True)\n",
    "ax1.plot(ts, ms[:, 0], label=\"x1\", linewidth=4)\n",
    "ax1.plot(ts, ms[:, 2], label=\"x2\", linewidth=4)\n",
    "ax1.legend()\n",
    "ax1.set_ylabel(\"Trajectory\")\n",
    "ax2.fill_between(ts,std1, alpha=0.25, label=\"x1-unc.\")\n",
    "ax2.fill_between(ts,std2, alpha=0.25, label=\"x2-unc.\")\n",
    "ax2.plot(ts, std1, alpha=0.5, linewidth=2)\n",
    "ax2.plot(ts, std2, alpha=0.5, linewidth=2)\n",
    "ax2.set_xlabel(\"Time T\")\n",
    "ax2.set_ylabel(\"Uncertainty\")\n",
    "ax2.legend()\n",
    "plt.savefig(\"uncert_lv\", dpi=300)\n",
    "plt.show()"
   ]
  }
 ],
 "metadata": {
  "kernelspec": {
   "display_name": "probnum_kernel",
   "language": "python",
   "name": "probnum_kernel"
  },
  "language_info": {
   "codemirror_mode": {
    "name": "ipython",
    "version": 3
   },
   "file_extension": ".py",
   "mimetype": "text/x-python",
   "name": "python",
   "nbconvert_exporter": "python",
   "pygments_lexer": "ipython3",
   "version": "3.7.7"
  }
 },
 "nbformat": 4,
 "nbformat_minor": 4
}
