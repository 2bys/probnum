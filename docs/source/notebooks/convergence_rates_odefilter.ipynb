{
 "cells": [
  {
   "cell_type": "markdown",
   "metadata": {},
   "source": [
    "# Convergence rates for Gaussian filters\n",
    "\n",
    "In this notebook, we illustrate the usage of the `diffeq` module by computing convergence rates of Gaussian ODE filters. See\n",
    "\n",
    "https://arxiv.org/pdf/1807.09737.pdf\n",
    "\n",
    "for analysis and many more experiments!"
   ]
  },
  {
   "cell_type": "code",
   "execution_count": 1,
   "metadata": {},
   "outputs": [],
   "source": [
    "# Make inline plots vector graphics instead of raster graphics\n",
    "%matplotlib inline\n",
    "from IPython.display import set_matplotlib_formats\n",
    "set_matplotlib_formats('pdf', 'svg')\n",
    "\n",
    "# Plotting\n",
    "import matplotlib.pyplot as plt\n",
    "#plt.rcParams['figure.figsize'] = [9.5, 6]\n",
    "plt.rcParams['font.size'] = 18 \n",
    "plt.rcParams['text.usetex'] = True\n",
    "plt.rcParams['text.latex.preamble'] = [r'\\usepackage{amsfonts}', r'\\usepackage{amsmath}']"
   ]
  },
  {
   "cell_type": "markdown",
   "metadata": {},
   "source": [
    "To illustrate, we use IVPs which allow a closed form solution. We start with the logistic ODE."
   ]
  },
  {
   "cell_type": "code",
   "execution_count": 1,
   "metadata": {},
   "outputs": [],
   "source": [
    "import numpy as np\n",
    "import matplotlib.pyplot as plt"
   ]
  },
  {
   "cell_type": "code",
   "execution_count": 2,
   "metadata": {},
   "outputs": [],
   "source": [
    "from probnum.diffeq import ode, odefiltsmooth\n",
    "from probnum.prob import RandomVariable, Dirac"
   ]
  },
  {
   "cell_type": "markdown",
   "metadata": {},
   "source": [
    "The logistic ODE as well as some others (Lotka-Volterra, FitzHugh-Nagumo, ...) are readily implemented in the `ode` module. To set them up, we need a random variable as initial values, e.g. a Dirac-distribution."
   ]
  },
  {
   "cell_type": "code",
   "execution_count": 3,
   "metadata": {},
   "outputs": [],
   "source": [
    "initdist = RandomVariable(distribution=Dirac(0.15 * np.ones(1)))\n",
    "ivp1 = ode.logistic([0.0, 1.5], initdist, params=(5, 1))\n",
    "arr = (np.array([ivp1.solution(0.) for i in range(2)]))"
   ]
  },
  {
   "cell_type": "markdown",
   "metadata": {},
   "source": [
    "Solving IVPs is probably easiest with the function `filter_ivp_h()` where the ending `_h()` implies that we use constant step sizes. Adaptive steps are not ready for the public yet."
   ]
  },
  {
   "cell_type": "code",
   "execution_count": null,
   "metadata": {},
   "outputs": [],
   "source": []
  },
  {
   "cell_type": "markdown",
   "metadata": {},
   "source": [
    "Note that the outputs contain estimates for the derivatives. To extract each coordinate, we slice accordingly."
   ]
  },
  {
   "cell_type": "code",
   "execution_count": 4,
   "metadata": {},
   "outputs": [
    {
     "ename": "AttributeError",
     "evalue": "module 'probnum.diffeq.odefiltsmooth.odefiltsmooth' has no attribute 'filter_ivp_h'",
     "output_type": "error",
     "traceback": [
      "\u001b[0;31m---------------------------------------------------------------------------\u001b[0m",
      "\u001b[0;31mAttributeError\u001b[0m                            Traceback (most recent call last)",
      "\u001b[0;32m<ipython-input-4-431356dde8d1>\u001b[0m in \u001b[0;36m<module>\u001b[0;34m\u001b[0m\n\u001b[1;32m      1\u001b[0m \u001b[0mstep\u001b[0m \u001b[0;34m=\u001b[0m \u001b[0;36m0.05\u001b[0m\u001b[0;34m\u001b[0m\u001b[0;34m\u001b[0m\u001b[0m\n\u001b[1;32m      2\u001b[0m \u001b[0mnsteps_\u001b[0m \u001b[0;34m=\u001b[0m \u001b[0mint\u001b[0m\u001b[0;34m(\u001b[0m\u001b[0mstep\u001b[0m \u001b[0;34m/\u001b[0m \u001b[0;36m0.001\u001b[0m\u001b[0;34m)\u001b[0m\u001b[0;34m\u001b[0m\u001b[0;34m\u001b[0m\u001b[0m\n\u001b[0;32m----> 3\u001b[0;31m \u001b[0mms\u001b[0m\u001b[0;34m,\u001b[0m \u001b[0mcs\u001b[0m\u001b[0;34m,\u001b[0m \u001b[0mts\u001b[0m \u001b[0;34m=\u001b[0m \u001b[0modefiltsmooth\u001b[0m\u001b[0;34m.\u001b[0m\u001b[0mfilter_ivp_h\u001b[0m\u001b[0;34m(\u001b[0m\u001b[0mivp1\u001b[0m\u001b[0;34m,\u001b[0m \u001b[0mstep\u001b[0m\u001b[0;34m,\u001b[0m \u001b[0mwhich_prior\u001b[0m\u001b[0;34m=\u001b[0m\u001b[0;34m\"ibm2\"\u001b[0m\u001b[0;34m,\u001b[0m \u001b[0mwhich_filt\u001b[0m\u001b[0;34m=\u001b[0m\u001b[0;34m\"ekf\"\u001b[0m\u001b[0;34m,\u001b[0m \u001b[0mnsteps\u001b[0m\u001b[0;34m=\u001b[0m\u001b[0mnsteps_\u001b[0m\u001b[0;34m)\u001b[0m\u001b[0;34m\u001b[0m\u001b[0;34m\u001b[0m\u001b[0m\n\u001b[0m\u001b[1;32m      4\u001b[0m \u001b[0mms2\u001b[0m\u001b[0;34m,\u001b[0m \u001b[0mcs2\u001b[0m\u001b[0;34m,\u001b[0m \u001b[0mts2\u001b[0m \u001b[0;34m=\u001b[0m \u001b[0modefiltsmooth\u001b[0m\u001b[0;34m.\u001b[0m\u001b[0msmoother_ivp_h\u001b[0m\u001b[0;34m(\u001b[0m\u001b[0mivp1\u001b[0m\u001b[0;34m,\u001b[0m \u001b[0mstep\u001b[0m\u001b[0;34m,\u001b[0m \u001b[0mwhich_prior\u001b[0m\u001b[0;34m=\u001b[0m\u001b[0;34m\"ibm2\"\u001b[0m\u001b[0;34m,\u001b[0m \u001b[0mwhich_filt\u001b[0m\u001b[0;34m=\u001b[0m\u001b[0;34m\"ekf\"\u001b[0m\u001b[0;34m,\u001b[0m \u001b[0mnsteps\u001b[0m\u001b[0;34m=\u001b[0m\u001b[0mnsteps_\u001b[0m\u001b[0;34m)\u001b[0m\u001b[0;34m\u001b[0m\u001b[0;34m\u001b[0m\u001b[0m\n\u001b[1;32m      5\u001b[0m \u001b[0mmeans\u001b[0m \u001b[0;34m=\u001b[0m \u001b[0mms\u001b[0m\u001b[0;34m[\u001b[0m\u001b[0;34m:\u001b[0m\u001b[0;34m,\u001b[0m \u001b[0;36m1\u001b[0m\u001b[0;34m]\u001b[0m\u001b[0;34m\u001b[0m\u001b[0;34m\u001b[0m\u001b[0m\n",
      "\u001b[0;31mAttributeError\u001b[0m: module 'probnum.diffeq.odefiltsmooth.odefiltsmooth' has no attribute 'filter_ivp_h'"
     ]
    }
   ],
   "source": [
    "step = 0.05\n",
    "nsteps_ = int(step / 0.001)\n",
    "ms, cs, ts = odefiltsmooth.filter_ivp_h(ivp1, step, which_prior=\"ibm2\", which_filt=\"ekf\", nsteps=nsteps_)\n",
    "ms2, cs2, ts2 = odefiltsmooth.smoother_ivp_h(ivp1, step, which_prior=\"ibm2\", which_filt=\"ekf\", nsteps=nsteps_)\n",
    "means = ms[:, 1]\n",
    "means2 = ms2[:, 1]\n",
    "stdevs = np.sqrt(cs[:, 1, 1])\n",
    "stdevs2 = np.sqrt(np.abs(cs2[:, 1, 1]))\n",
    "\n",
    "sols = np.array([ivp1.solution(t) for t in ts])\n",
    "plt.plot(ts, means, \"-\", label=\"Filter\")\n",
    "plt.plot(ts2, means2, \"-\", label=\"Smoother\")\n",
    "\n",
    "plt.fill_between(ts, means-3*stdevs, means+3*stdevs,  alpha=0.25, label=\"Filter Unc\")\n",
    "\n",
    "plt.fill_between(ts2, means2-3*stdevs2, means2+3*stdevs2,  alpha=0.25, label=\"Smoother Unc\")\n",
    "# plt.plot(ts, sols, alpha=0.25, linewidth=6, label=\"Truth\")\n",
    "plt.legend()\n",
    "plt.show()\n"
   ]
  },
  {
   "cell_type": "markdown",
   "metadata": {},
   "source": [
    "## Convergence rates of KF\n",
    "\n",
    "We compare the convergence rates of the \"classic\" Kalman ODE filter on the IBM(1) prior. To this end, we comput the average error on each time step and the average standard deviation."
   ]
  },
  {
   "cell_type": "code",
   "execution_count": null,
   "metadata": {},
   "outputs": [],
   "source": [
    "avgerr, avgstd = [], []\n",
    "stps = np.array([0.5**i for i in range(2, 9)])\n",
    "for step in stps:\n",
    "    nsteps_ = int(step / 0.5**10)\n",
    "    ms, cs, ts = odefiltsmooth.smoother_ivp_h(ivp1, step, which_filt=\"kf\", which_prior=\"ibm1\", nsteps=nsteps_)\n",
    "    ms2, cs2, ts2 = odefiltsmooth.smoother_ivp_h(ivp1, step, which_filt=\"ekf\", which_prior=\"ibm1\", nsteps=nsteps_)\n",
    "    means = ms[:, 0]\n",
    "    sols = np.array([ivp1.solution(t) for t in ts])\n",
    "    solsder = np.array([ivp1.rhs(t, ivp1.solution(t)) for t in ts])\n",
    "    # avgerr.append(np.linalg.norm(np.abs(sols[:, 0] - means))/np.sqrt(len(means)))\n",
    "    err = np.linalg.norm(sols[:, 0] - ms[:, 0], ord=np.inf)\n",
    "    errder = np.linalg.norm(solsder[:, 0] - ms[:, 1], ord=np.inf)\n",
    "    avgerr.append(np.maximum(err, errder))\n",
    "\n",
    "    sols = np.array([ivp1.solution(t) for t in ts2])\n",
    "    solsder = np.array([ivp1.rhs(t, ivp1.solution(t)) for t in ts2])\n",
    "    err2 =  np.linalg.norm(sols[:, 0] - ms2[:, 0], ord=np.inf)\n",
    "    errder2 = np.linalg.norm(solsder[:, 0] - ms2[:, 1], ord=np.inf)\n",
    "    avgstd.append(np.maximum(err2, errder2))\n",
    "    print(sols.shape)\n",
    "\n",
    "plt.loglog(stps, avgerr, \"o-\", label=\"EKS0\")\n",
    "plt.loglog(stps, avgstd, \"o-\", label=\"EKS1\")\n",
    "# plt.loglog(stps, stps**4, \"--\", color=\"gray\", label=\"O(h^3)\")\n",
    "plt.ylabel(\"RMSE\")\n",
    "plt.xlabel(\"Num. Fct.-Evals.\")\n",
    "plt.title(\"L^\\infty error: IBM(3), EKS0 & EKS1\")\n",
    "plt.legend()\n",
    "plt.grid()\n",
    "plt.show()"
   ]
  },
  {
   "cell_type": "markdown",
   "metadata": {},
   "source": [
    "## Higher order IBM(q) priors\n",
    "\n",
    "Seems like IBM(1) does as expected. How do higher order IBM(q) priors fare? Note that only $q \\in \\{1, 2, 3\\}$ is supported, since higher orders would require analytic knowledge of higher order derivatives of the ODE right-hand side function. "
   ]
  },
  {
   "cell_type": "code",
   "execution_count": null,
   "metadata": {},
   "outputs": [],
   "source": [
    "def error(ms, sols):\n",
    "    return np.linalg.norm((sols[:, 0] - ms[:, 0]))/np.sqrt(sols[:, 0].size)\n",
    "\n",
    "DCNST = 50\n",
    "fig, (ax1) = plt.subplots(nrows=1, ncols=1, figsize=(8, 8))\n",
    "stps = np.array([0.5**i for i in range(4, 8)])\n",
    "\n",
    "err_ibm1, err_ibm2, err_ibm3, err_ibm4 = [], [], [], []\n",
    "for step in stps:\n",
    "    ms1, __, ts1 = odefiltsmooth.smoother_ivp_h(ivp1, step, diffconst=DCNST, which_prior=\"ibm1\", which_filt=\"kf\")\n",
    "    sols1 = np.array([ivp1.solution(t) for t in ts1])\n",
    "    err_ibm1.append(error(ms1, sols1))\n",
    "    \n",
    "    ms2, __, ts2 = odefiltsmooth.smoother_ivp_h(ivp1, step, diffconst=DCNST, which_prior=\"ibm2\", which_filt=\"kf\")\n",
    "    sols2 = np.array([ivp1.solution(t) for t in ts2])\n",
    "    err_ibm2.append(error(ms2, sols2))\n",
    "    \n",
    "    ms3, __, ts3 = odefiltsmooth.smoother_ivp_h(ivp1, step, diffconst=DCNST, which_prior=\"ibm3\", which_filt=\"kf\")\n",
    "    sols3 = np.array([ivp1.solution(t) for t in ts3])\n",
    "    err_ibm3.append(error(ms3, sols3))\n",
    "\n",
    "    \n",
    "    # ms4, __, ts4 = odefiltsmooth.smoother_ivp_h(ivp1, step, diffconst=DCNST, which_prior=\"ibm4\", which_filt=\"kf\")\n",
    "    # sols4 = np.array([ivp1.solution(t) for t in ts3])\n",
    "    err_ibm4.append(0)\n",
    "    # err_ibm4.append(error(ms4, sols4))\n",
    "\n",
    "ax1.loglog(stps, np.array(err_ibm1), \"o-\", label=\"IBM(1)\", alpha=0.75)\n",
    "ax1.loglog(stps, np.array(err_ibm2), \"o-\", label=\"IBM(2)\", alpha=0.75)\n",
    "ax1.loglog(stps, np.array(err_ibm3), \"o-\", label=\"IBM(3)\", alpha=0.75)\n",
    "ax1.loglog(stps, np.array(err_ibm4), \"o-\", label=\"IBM(4)\", alpha=0.75)\n",
    "\n",
    "ax1.loglog(stps, stps**1, alpha=0.75, linestyle=\"--\", color=\"black\", label=\"O(h^2)\")\n",
    "ax1.loglog(stps, 0.1*stps**2, alpha=0.75, linestyle=\":\", color=\"black\", label=\"O(h^3)\")\n",
    "ax1.loglog(stps, 10*stps**3, alpha=0.75, linestyle=\"-.\", color=\"black\", label=\"O(h^4)\")\n",
    "ax1.set_title(\"||m - x||\")\n",
    "ax1.set_xlabel(\"Fct.-Evals\")\n",
    "ax1.set_ylabel(\"Error\")\n",
    "ax1.legend()\n",
    "ax1.grid()\n",
    "\n",
    "plt.show()"
   ]
  },
  {
   "cell_type": "markdown",
   "metadata": {},
   "source": [
    "## A Different ODE\n",
    "\n",
    "The same results hold for a different ODE, e.g. for the linear system Eq. 8.3 in Kersting et al., 2019."
   ]
  },
  {
   "cell_type": "code",
   "execution_count": null,
   "metadata": {},
   "outputs": [],
   "source": [
    "def fct(t, x):\n",
    "    x1, x2 = x\n",
    "    return np.array([-np.pi*x2, np.pi*x1])\n",
    "\n",
    "def jac(t, x):\n",
    "    return np.array([[0, -np.pi],[np.pi, 0]])\n",
    "\n",
    "def sol(t):\n",
    "    return np.array([-np.sin(t*np.pi), np.cos(t*np.pi)])\n",
    "\n",
    "initdist = gaussian.MultivariateGaussian(np.array([0., 1.]), 0*np.eye(2))\n",
    "ivp_lin = ode.ivp.IVP([0., 5.], initdist, fct, jac=jac, sol=sol)\n"
   ]
  },
  {
   "cell_type": "code",
   "execution_count": null,
   "metadata": {},
   "outputs": [],
   "source": [
    "def error(ms, sols):\n",
    "    return np.linalg.norm((sols - ms))/np.sqrt(sols.size)\n",
    "\n",
    "DCNST = 25\n",
    "fig, (ax1) = plt.subplots(nrows=1, ncols=1, figsize=(8, 8))\n",
    "stps = np.array([0.5**i for i in range(4, 9)])\n",
    "\n",
    "err_ibm1, err_ibm2, err_ibm3, err_ibm4 = [], [], [], []\n",
    "for step in stps:\n",
    "    ms1, __, ts1 = odefilter.solve_filter_h(ivp_lin, step, diffconst=DCNST, which_prior=\"ibm1\", which_filt=\"kf\")\n",
    "    sols1 = np.array([ivp_lin.solution(t) for t in ts1])\n",
    "    err_ibm1.append(error(ms1[:, [0, 2]], sols1))\n",
    "    \n",
    "    ms2, __, ts2 = odefilter.solve_filter_h(ivp_lin, step, diffconst=DCNST, which_prior=\"ibm2\", which_filt=\"kf\")\n",
    "    sols2 = np.array([ivp_lin.solution(t) for t in ts2])\n",
    "    err_ibm2.append(error(ms2[:, [0, 3]], sols2))\n",
    "    \n",
    "    ms3, __, ts3 = odefilter.solve_filter_h(ivp_lin, step, diffconst=DCNST, which_prior=\"ibm3\", which_filt=\"kf\")\n",
    "    sols3 = np.array([ivp_lin.solution(t) for t in ts3])\n",
    "    err_ibm3.append(error(ms3[:,  [0, 4]], sols3))\n",
    "\n",
    "    # ms4, __, ts4 = odefilter.solve_filter_h(ivp, step, diffconst=DCNST, which_prior=\"ibm4\", which_filt=\"kf\")\n",
    "    # sols4 = np.array([ivp.solution(t) for t in ts4])\n",
    "    # err_ibm4.append(error(ms4, sols4))\n",
    "\n",
    "ax1.loglog(1/stps, np.array(err_ibm1), \"o-\", label=\"IBM(1)\", alpha=0.75)\n",
    "ax1.loglog(1/stps, np.array(err_ibm2), \"o-\", label=\"IBM(2)\", alpha=0.75)\n",
    "ax1.loglog(1/stps, np.array(err_ibm3), \"o-\", label=\"IBM(3)\", alpha=0.75)\n",
    "\n",
    "ax1.loglog(1/stps, 20*stps**2, \"--\", alpha=0.75, color=\"gray\", label=\"O(h^2)\")\n",
    "ax1.loglog(1/stps, 100*stps**3, \"-.\", alpha=0.75, color=\"gray\", label=\"O(h^3)\")\n",
    "ax1.loglog(1/stps, 100*stps**4, \":\", alpha=0.75, color=\"gray\", label=\"O(h^4)\")\n",
    "ax1.set_title(\"||m - x||\")\n",
    "ax1.set_xlabel(\"Fct.-Evals\")\n",
    "ax1.set_ylabel(\"Error\")\n",
    "ax1.legend()\n",
    "ax1.grid()\n",
    "\n",
    "plt.show()"
   ]
  },
  {
   "cell_type": "markdown",
   "metadata": {},
   "source": [
    "## Other Filters\n",
    "\n",
    "We can do the same experiments for the UKF. Interestingly, it seems that the convergence rates somewhat hold in the same way, in fact they kick in much quicker, but numerical instability becomes a concern pretty quickly."
   ]
  },
  {
   "cell_type": "code",
   "execution_count": null,
   "metadata": {},
   "outputs": [],
   "source": [
    "def error(ms, sols):\n",
    "    return np.linalg.norm((sols - ms))/np.sqrt(sols.size)\n",
    "\n",
    "DCNST = 1\n",
    "fig, (ax1) = plt.subplots(nrows=1, ncols=1, figsize=(8, 8))\n",
    "stps = np.array([0.5**i for i in range(1, 8)])\n",
    "\n",
    "err_ibm1, err_ibm2, err_ibm3, err_ibm4 = [], [], [], []\n",
    "for step in stps:\n",
    "    ms1, __, ts1 = odefilter.solve_filter_h(ivp_lin, step, which_prior=\"ibm1\", which_filt=\"ukf\")\n",
    "    sols1 = np.array([ivp_lin.solution(t) for t in ts1])\n",
    "    err_ibm1.append(error(ms1[:, [0, 2]], sols1))\n",
    "    \n",
    "    ms2, __, ts2 = odefilter.solve_filter_h(ivp_lin, step, which_prior=\"ibm2\", which_filt=\"ukf\")\n",
    "    sols2 = np.array([ivp_lin.solution(t) for t in ts2])\n",
    "    err_ibm2.append(error(ms2[:, [0, 3]], sols2))\n",
    "    \n",
    "    ms3, __, ts3 = odefilter.solve_filter_h(ivp_lin, step, which_prior=\"ibm3\", which_filt=\"ukf\")\n",
    "    sols3 = np.array([ivp_lin.solution(t) for t in ts3])\n",
    "    err_ibm3.append(error(ms3[:,  [0, 4]], sols3))\n",
    "\n",
    "    # ms4, __, ts4 = odefilter.solve_filter_h(ivp, step, diffconst=DCNST, which_prior=\"ibm4\", which_filt=\"kf\")\n",
    "    # sols4 = np.array([ivp.solution(t) for t in ts4])\n",
    "    # err_ibm4.append(error(ms4, sols4))\n",
    "\n",
    "ax1.loglog(1/stps, np.array(err_ibm1), \"o-\", label=\"IBM(1)\", alpha=0.75)\n",
    "ax1.loglog(1/stps, np.array(err_ibm2), \"o-\", label=\"IBM(2)\", alpha=0.75)\n",
    "ax1.loglog(1/stps, np.array(err_ibm3), \"o-\", label=\"IBM(3)\", alpha=0.75)\n",
    "\n",
    "ax1.loglog(1/stps, 20*stps**2, \"--\", alpha=0.75, color=\"gray\", label=\"O(h^2)\")\n",
    "ax1.loglog(1/stps, 1*stps**3, \"-.\", alpha=0.75, color=\"gray\", label=\"O(h^3)\")\n",
    "ax1.loglog(1/stps, 10*stps**4, \":\", alpha=0.75, color=\"gray\", label=\"O(h^4)\")\n",
    "ax1.set_title(\"||m - x||\")\n",
    "ax1.set_xlabel(\"Fct.-Evals\")\n",
    "ax1.set_ylabel(\"Error\")\n",
    "ax1.legend()\n",
    "ax1.grid()\n",
    "\n",
    "plt.show()"
   ]
  },
  {
   "cell_type": "code",
   "execution_count": null,
   "metadata": {},
   "outputs": [],
   "source": []
  },
  {
   "cell_type": "code",
   "execution_count": null,
   "metadata": {},
   "outputs": [],
   "source": []
  },
  {
   "cell_type": "code",
   "execution_count": null,
   "metadata": {},
   "outputs": [],
   "source": [
    "# This is for the IMPRS presentation, hence simplified labelling.\n",
    "\n",
    "plt.rcParams.update({'font.size': 22})\n",
    "def error(ms, sols):\n",
    "    return np.linalg.norm((sols - ms))/np.sqrt(sols.size)\n",
    "\n",
    "DCNST = 25\n",
    "fig, (ax1) = plt.subplots(nrows=1, ncols=1, figsize=(16, 9))\n",
    "stps = np.array([0.5**i for i in range(3, 11)])\n",
    "\n",
    "err_ibm1, err_ibm2, err_ibm3, err_ibm4 = [], [], [], []\n",
    "for step in stps:\n",
    "    ms1, __, ts1 = odefilter.solve_filter_h(ivp_lin, step, diffconst=DCNST, which_prior=\"ibm1\", which_filt=\"kf\")\n",
    "    sols1 = np.array([ivp_lin.solution(t) for t in ts1])\n",
    "    err_ibm1.append(error(ms1[:, [0, 2]], sols1))\n",
    "    \n",
    "    ms2, __, ts2 = odefilter.solve_filter_h(ivp_lin, step, diffconst=DCNST, which_prior=\"ibm2\", which_filt=\"kf\")\n",
    "    sols2 = np.array([ivp_lin.solution(t) for t in ts2])\n",
    "    err_ibm2.append(error(ms2[:, [0, 3]], sols2))\n",
    "    \n",
    "    ms3, __, ts3 = odefilter.solve_filter_h(ivp_lin, step, diffconst=DCNST, which_prior=\"ibm3\", which_filt=\"kf\")\n",
    "    sols3 = np.array([ivp_lin.solution(t) for t in ts3])\n",
    "    err_ibm3.append(error(ms3[:,  [0, 4]], sols3))\n",
    "\n",
    "    # ms4, __, ts4 = odefilter.solve_filter_h(ivp, step, diffconst=DCNST, which_prior=\"ibm4\", which_filt=\"kf\")\n",
    "    # sols4 = np.array([ivp.solution(t) for t in ts4])\n",
    "    # err_ibm4.append(error(ms4, sols4))\n",
    "\n",
    "ax1.loglog(1/stps, np.array(err_ibm1), \"o-\", label=\"Order 1\", alpha=0.75, linewidth=3)\n",
    "ax1.loglog(1/stps, np.array(err_ibm2), \"o-\", label=\"Order 2\", alpha=0.75, linewidth=3)\n",
    "ax1.loglog(1/stps, np.array(err_ibm3), \"o-\", label=\"Order 3\", alpha=0.75, linewidth=3)\n",
    "\n",
    "ax1.loglog(1/stps, 20*stps**2, \"--\", alpha=0.75, color=\"gray\", label=\"O(h^2)\", linewidth=2)\n",
    "ax1.loglog(1/stps, 100*stps**3, \"-.\", alpha=0.75, color=\"gray\", label=\"O(h^3)\", linewidth=2)\n",
    "ax1.loglog(1/stps, 100*stps**4, \":\", alpha=0.75, color=\"gray\", label=\"O(h^4)\", linewidth=2)\n",
    "ax1.set_xlabel(\"Fct.-Evals\")\n",
    "ax1.set_ylabel(\"Error\")\n",
    "ax1.legend()\n",
    "ax1.grid()\n",
    "\n",
    "plt.savefig(\"convrates_lin\", dpi=300)\n",
    "plt.show()"
   ]
  },
  {
   "cell_type": "code",
   "execution_count": null,
   "metadata": {},
   "outputs": [],
   "source": []
  },
  {
   "cell_type": "code",
   "execution_count": null,
   "metadata": {},
   "outputs": [],
   "source": []
  },
  {
   "cell_type": "code",
   "execution_count": null,
   "metadata": {},
   "outputs": [],
   "source": []
  },
  {
   "cell_type": "code",
   "execution_count": null,
   "metadata": {},
   "outputs": [],
   "source": []
  },
  {
   "cell_type": "code",
   "execution_count": null,
   "metadata": {},
   "outputs": [],
   "source": []
  },
  {
   "cell_type": "code",
   "execution_count": null,
   "metadata": {},
   "outputs": [],
   "source": []
  },
  {
   "cell_type": "code",
   "execution_count": null,
   "metadata": {},
   "outputs": [],
   "source": []
  },
  {
   "cell_type": "code",
   "execution_count": null,
   "metadata": {},
   "outputs": [],
   "source": []
  },
  {
   "cell_type": "code",
   "execution_count": null,
   "metadata": {},
   "outputs": [],
   "source": []
  },
  {
   "cell_type": "code",
   "execution_count": null,
   "metadata": {},
   "outputs": [],
   "source": []
  },
  {
   "cell_type": "code",
   "execution_count": null,
   "metadata": {},
   "outputs": [],
   "source": [
    "initdist = RandomVariable(distribution=Dirac(0.15 * np.ones(1)))\n",
    "ivp1 = ode.logistic([0.0, 1.5], initdist, params=(10, 1))\n",
    "\n",
    "ms1, cs1, ts1 = odefiltsmooth.smoother_ivp_h(ivp1, step=0.05, which_prior=\"ibm2\",\n",
    "                                             which_filt=\"kf\", nsteps=25)\n",
    "ms2, cs2, ts2 = odefiltsmooth.smoother_ivp_h(ivp1, step=0.05, which_prior=\"ibm2\",\n",
    "                                             which_filt=\"ekf\", nsteps=25)\n",
    "\n",
    "\n",
    "plt.plot(ts1, ms1[:, 1], label=\"EKS0\")\n",
    "plt.fill_between(ts1, ms1[:, 1] - 3*np.sqrt(np.abs(cs1[:, 1, 1])), ms1[:, 1] + 3*np.sqrt(np.abs(cs1[:, 1, 1])), alpha=0.25)\n",
    "plt.plot(ts2, ms2[:, 1], label=\"EKS1\")\n",
    "plt.fill_between(ts2, ms2[:, 1] - 3*np.sqrt(np.abs(cs2[:, 1, 1])), ms2[:, 1] + 3*np.sqrt(np.abs(cs2[:, 1, 1])), alpha=0.25)\n",
    "plt.legend()\n",
    "plt.show()"
   ]
  },
  {
   "cell_type": "code",
   "execution_count": null,
   "metadata": {},
   "outputs": [],
   "source": []
  }
 ],
 "metadata": {
  "kernelspec": {
   "display_name": "probnum_kernel",
   "language": "python",
   "name": "probnum_kernel"
  },
  "language_info": {
   "codemirror_mode": {
    "name": "ipython",
    "version": 3
   },
   "file_extension": ".py",
   "mimetype": "text/x-python",
   "name": "python",
   "nbconvert_exporter": "python",
   "pygments_lexer": "ipython3",
   "version": "3.7.7"
  }
 },
 "nbformat": 4,
 "nbformat_minor": 4
}
