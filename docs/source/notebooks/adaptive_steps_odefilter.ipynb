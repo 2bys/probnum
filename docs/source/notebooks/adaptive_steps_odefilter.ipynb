{
 "cells": [
  {
   "cell_type": "markdown",
   "metadata": {},
   "source": [
    "# Adaptive step size ODE filters\n",
    "\n",
    "\n",
    "In `probnum`, we implement the step size adaptation scheme from Schober et al., 2019:\n",
    "\n",
    "https://arxiv.org/pdf/1610.05261.pdf\n",
    "\n",
    "We show how for the KF-IBM(1) Combo, they work very well (which is what they write in their paper) but also, how it doesn't quite generalise to other filters."
   ]
  },
  {
   "cell_type": "code",
   "execution_count": 1,
   "metadata": {},
   "outputs": [],
   "source": [
    "import matplotlib.pyplot as plt\n",
    "import numpy as np"
   ]
  },
  {
   "cell_type": "code",
   "execution_count": 2,
   "metadata": {},
   "outputs": [],
   "source": [
    "from probnum.diffeq import lotkavolterra, filter_ivp, filter_ivp_h\n",
    "from probnum.prob import RandomVariable, Normal, Dirac\n"
   ]
  },
  {
   "cell_type": "markdown",
   "metadata": {},
   "source": [
    "### IBM(1) with KF\n",
    "\n",
    "We start by showing how solving an IVP with adaptive steps works:"
   ]
  },
  {
   "cell_type": "code",
   "execution_count": null,
   "metadata": {},
   "outputs": [],
   "source": [
    "initrv = RandomVariable(distribution=Dirac(np.array([20, 20])))\n",
    "ivp = lotkavolterra([0., 20.], initrv)\n",
    "ms, cs, ts = filter_ivp(ivp, tol=1e-1)\n",
    "ms1, cs1 = ms[:, 0], cs[:, 0, 0]\n",
    "ms2, cs2 = ms[:, 2], cs[:, 2, 2]\n",
    "\n",
    "plt.plot(ts, ms1, label=\"Prey\")\n",
    "plt.plot(ts, ms2, label=\"Predators\")\n",
    "plt.legend()\n",
    "plt.show()"
   ]
  },
  {
   "cell_type": "markdown",
   "metadata": {},
   "source": [
    "Now lets repeat the previous plot, but this time we visualise the steps:"
   ]
  },
  {
   "cell_type": "code",
   "execution_count": null,
   "metadata": {},
   "outputs": [],
   "source": [
    "initrv = RandomVariable(distribution=Dirac(np.array([20, 20])))\n",
    "ivp = lotkavolterra([0., 20.], initrv)\n",
    "ms, cs, ts = filter_ivp(ivp, tol=1e-3)\n",
    "ms1, cs1 = ms[:, 0], cs[:, 0, 0]\n",
    "ms2, cs2 = ms[:, 2], cs[:, 2, 2]\n",
    "\n",
    "plt.plot(ts, ms1, label=\"Prey\")\n",
    "plt.plot(ts, ms2, label=\"Predators\")\n",
    "for t in ts:\n",
    "    plt.axvline(t, linewidth=0.05, color=\"gray\")\n",
    "plt.legend()\n",
    "plt.show()"
   ]
  },
  {
   "cell_type": "markdown",
   "metadata": {},
   "source": [
    "Note how at the peaks, there are more steps taken than at the valleys. This is what we want. In fact, the standard deviation as a local error estimate behaves like the tolerance. Note that we only plot one of the standard deviations of the respective coordinates, since by choice of the method, they are equal."
   ]
  },
  {
   "cell_type": "code",
   "execution_count": null,
   "metadata": {},
   "outputs": [],
   "source": [
    "plt.semilogy(ts, np.sqrt(cs1), label=\"stdev\")\n",
    "plt.axhline(1e-3, color=\"gray\", label=\"tol\")\n",
    "plt.legend()\n",
    "plt.grid()\n",
    "plt.show()"
   ]
  },
  {
   "cell_type": "markdown",
   "metadata": {},
   "source": [
    "## Higher order priors\n",
    "\n",
    "Higher order priors exhibit the curious phenomenon that the step size selection is agnostic of the order of the method. "
   ]
  },
  {
   "cell_type": "code",
   "execution_count": null,
   "metadata": {},
   "outputs": [],
   "source": [
    "initrv = RandomVariable(distribution=Dirac(np.array([20, 20])))\n",
    "ivp = lotkavolterra([0., 10.], initrv)\n",
    "ms, cs, ts1 = filter_ivp(ivp, tol=1e-3, which_prior=\"ibm1\")\n",
    "ms1, cs1 = ms[:, 0], cs[:, 0, 0]\n",
    "ms2, cs2 = ms[:, 2], cs[:, 2, 2]\n",
    "\n",
    "ms, cs, ts3 = filter_ivp(ivp, tol=1e-3, which_prior=\"ibm2\")\n",
    "ms3, cs3 = ms[:, 0], cs[:, 0, 0]\n",
    "ms4, cs4 = ms[:, 2], cs[:, 2, 2]\n",
    "\n",
    "fig, (ax1, ax2) = plt.subplots(nrows=1, ncols=2, sharey=True)\n",
    "ax2.semilogy(ts1, np.sqrt(cs1))\n",
    "ax2.set_title(\"IBM(1) prior: %u steps\" % len(ts1))\n",
    "ax1.semilogy(ts3, np.sqrt(cs3))\n",
    "ax1.set_title(\"IBM(2) prior: %u steps\" % len(ts3))\n",
    "plt.show()"
   ]
  },
  {
   "cell_type": "markdown",
   "metadata": {},
   "source": [
    "Both need roughly the same number of steps, even though the standard deviation of the IBM(2) prior is about 100 times smaller then the standard deviation of the IBM(1) prior. I suppose the reason is due to the choice of the whitened residual $\\epsilon_n = S_n^{-1/2}r_n$ as an error estimate ($r_n$ is the residual at the current step). For IBM(2) priors, the residual is smaller than for the IBM(1) prior. In fact, we can guess how much smaller it is: \n",
    "the residual of IBM(1) is roughly $h^2$ and the residual of IBM(2) is roughly $h^3$. However, the innovation term $S_n$ for IBM(3) is (very loosely speaking) proportional to $h^3$, too, so the gain in error estimate is tiny."
   ]
  },
  {
   "cell_type": "markdown",
   "metadata": {},
   "source": [
    "## Other filters\n",
    "\n",
    "Other filters have other issues. The innovation term of the extended Kalman filter incldues the Jacobian of the ODE r.h.s. $J_f$ and in fact, there seem to be settings where the innovation term is not even invertible without adding noise."
   ]
  },
  {
   "cell_type": "code",
   "execution_count": 21,
   "metadata": {},
   "outputs": [
    {
     "data": {
      "image/png": "[encoded data removed]",
      "text/plain": [
       "<Figure size 432x288 with 4 Axes>"
      ]
     },
     "metadata": {
      "needs_background": "light"
     },
     "output_type": "display_data"
    }
   ],
   "source": [
    "from probnum.diffeq import logistic\n",
    "\n",
    "initrv = RandomVariable(distribution=Dirac(0.05*np.ones(1)))\n",
    "ivp = logistic([0., 2.5], initrv)\n",
    "ms, cs, ts1 = filter_ivp(ivp, tol=1e-3, which_prior=\"ibm2\", which_filt=\"kf\")\n",
    "ms1, cs1 = ms[:, 0], cs[:, 0, 0]\n",
    "ms2, cs2 = ms[:, 2], cs[:, 2, 2]\n",
    "\n",
    "ms, cs, ts3 = filter_ivp(ivp, tol=1e-3, which_prior=\"ibm2\", which_filt=\"ekf\")\n",
    "ms3, cs3 = ms[:, 0], cs[:, 0, 0]\n",
    "ms4, cs4 = ms[:, 2], cs[:, 2, 2]\n",
    "\n",
    "\n",
    "fig, ax = plt.subplots(nrows=2, ncols=2, sharex=True)\n",
    "ax[0][0].plot(ts3, (ms3))\n",
    "for t in ts3:\n",
    "    ax[0][0].axvline(t, linewidth=0.1, alpha=0.5)\n",
    "ax[0][0].set_title(\"EKF with IBM(2)\\n%u steps\" % len(ts3))\n",
    "ax[0][0].grid()\n",
    "\n",
    "ax[1][0].semilogy(ts3, np.sqrt(cs3))\n",
    "for t in ts3:\n",
    "    ax[1][0].axvline(t, linewidth=0.1, alpha=0.5)\n",
    "ax[1][0].grid()\n",
    "\n",
    "ax[0][1].plot(ts1, (ms1))\n",
    "for t in ts1:\n",
    "    ax[0][1].axvline(t, linewidth=0.1, alpha=0.5)\n",
    "ax[0][1].set_title(\"KF with IBM(2)\\n%u steps\" % len(ts1))\n",
    "ax[0][1].grid()\n",
    "\n",
    "\n",
    "ax[1][1].plot(ts1, np.sqrt(cs1))\n",
    "for t in ts1:\n",
    "    ax[1][1].axvline(t, linewidth=0.1, alpha=0.5)\n",
    "ax[1][1].grid()\n",
    "\n",
    "\n",
    "plt.show()\n",
    "\n",
    "\n"
   ]
  },
  {
   "cell_type": "code",
   "execution_count": null,
   "metadata": {},
   "outputs": [],
   "source": []
  },
  {
   "cell_type": "code",
   "execution_count": null,
   "metadata": {},
   "outputs": [],
   "source": []
  },
  {
   "cell_type": "code",
   "execution_count": null,
   "metadata": {},
   "outputs": [],
   "source": []
  },
  {
   "cell_type": "code",
   "execution_count": null,
   "metadata": {},
   "outputs": [],
   "source": []
  },
  {
   "cell_type": "code",
   "execution_count": null,
   "metadata": {},
   "outputs": [],
   "source": []
  }
 ],
 "metadata": {
  "kernelspec": {
   "display_name": "Python 3",
   "language": "python",
   "name": "python3"
  },
  "language_info": {
   "codemirror_mode": {
    "name": "ipython",
    "version": 3
   },
   "file_extension": ".py",
   "mimetype": "text/x-python",
   "name": "python",
   "nbconvert_exporter": "python",
   "pygments_lexer": "ipython3",
   "version": "3.7.5"
  }
 },
 "nbformat": 4,
 "nbformat_minor": 4
}
