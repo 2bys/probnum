{
 "cells": [
  {
   "cell_type": "markdown",
   "metadata": {},
   "source": [
    "# Adaptive step size ODE filters\n",
    "\n",
    "\n",
    "In `probnum`, we implement the step size adaptation scheme from Schober et al., 2019:\n",
    "\n",
    "https://arxiv.org/pdf/1610.05261.pdf\n",
    "\n",
    "We show how for the KF-IBM(1) Combo, they work very well (which is what they write in their paper) but also, how it doesn't quite generalise to other filters."
   ]
  },
  {
   "cell_type": "code",
   "execution_count": 2,
   "metadata": {},
   "outputs": [],
   "source": [
    "import matplotlib.pyplot as plt\n",
    "import numpy as np"
   ]
  },
  {
   "cell_type": "code",
   "execution_count": 3,
   "metadata": {},
   "outputs": [],
   "source": [
    "from probnum.diffeq import lotkavolterra, filter_ivp, filter_ivp_h\n",
    "from probnum.prob import RandomVariable, Normal, Dirac\n"
   ]
  },
  {
   "cell_type": "markdown",
   "metadata": {},
   "source": [
    "### IBM(1) with KF\n",
    "\n",
    "We start by showing how solving an IVP with adaptive steps works:"
   ]
  },
  {
   "cell_type": "code",
   "execution_count": null,
   "metadata": {},
   "outputs": [],
   "source": [
    "initrv = RandomVariable(distribution=Dirac(np.array([20, 20])))\n",
    "ivp = lotkavolterra([0., 20.], initrv)\n",
    "ms, cs, ts = filter_ivp(ivp, tol=1e-1)\n",
    "ms1, cs1 = ms[:, 0], cs[:, 0, 0]\n",
    "ms2, cs2 = ms[:, 2], cs[:, 2, 2]\n",
    "\n",
    "plt.plot(ts, ms1, label=\"Prey\")\n",
    "plt.plot(ts, ms2, label=\"Predators\")\n",
    "plt.legend()\n",
    "plt.show()"
   ]
  },
  {
   "cell_type": "markdown",
   "metadata": {},
   "source": [
    "Now lets repeat the previous plot, but this time we visualise the steps:"
   ]
  },
  {
   "cell_type": "code",
   "execution_count": null,
   "metadata": {},
   "outputs": [],
   "source": [
    "initrv = RandomVariable(distribution=Dirac(np.array([20, 20])))\n",
    "ivp = lotkavolterra([0., 20.], initrv)\n",
    "ms, cs, ts = filter_ivp(ivp, tol=1e-1, which_prior=\"ibm1\")\n",
    "ms1, cs1 = ms[:, 0], cs[:, 0, 0]\n",
    "ms2, cs2 = ms[:, 2], cs[:, 2, 2]\n",
    "\n",
    "plt.plot(ts, ms1, label=\"Prey\")\n",
    "plt.plot(ts, ms2, label=\"Predators\")\n",
    "for t in ts:\n",
    "    plt.axvline(t, linewidth=0.15, color=\"gray\")\n",
    "plt.legend()\n",
    "plt.show()"
   ]
  },
  {
   "cell_type": "markdown",
   "metadata": {},
   "source": [
    "Note how at the peaks, there are more steps taken than at the valleys. This is what we want. In fact, the standard deviation as a local error estimate behaves like the tolerance. Note that we only plot one of the standard deviations of the respective coordinates, since by choice of the method, they are equal."
   ]
  },
  {
   "cell_type": "code",
   "execution_count": null,
   "metadata": {},
   "outputs": [],
   "source": [
    "plt.semilogy(ts, np.sqrt(cs1), label=\"stdev\")\n",
    "plt.axhline(1e-3, color=\"gray\", label=\"tol\")\n",
    "plt.legend()\n",
    "plt.grid()\n",
    "plt.show()"
   ]
  },
  {
   "cell_type": "markdown",
   "metadata": {},
   "source": [
    "## Higher order priors\n",
    "\n",
    "Higher order priors exhibit the curious phenomenon that the step size selection is agnostic of the order of the method. "
   ]
  },
  {
   "cell_type": "code",
   "execution_count": null,
   "metadata": {},
   "outputs": [],
   "source": [
    "initrv = RandomVariable(distribution=Dirac(np.array([20, 20])))\n",
    "ivp = lotkavolterra([0., 10.], initrv)\n",
    "ms, cs, ts1 = filter_ivp(ivp, tol=1e-1, which_prior=\"ibm1\")\n",
    "ms1, cs1 = ms[:, 0], cs[:, 0, 0]\n",
    "ms2, cs2 = ms[:, 2], cs[:, 2, 2]\n",
    "\n",
    "ms, cs, ts3 = filter_ivp(ivp, tol=1e-1, which_prior=\"ibm2\")\n",
    "ms3, cs3 = ms[:, 0], cs[:, 0, 0]\n",
    "ms4, cs4 = ms[:, 2], cs[:, 2, 2]\n",
    "\n",
    "fig, (ax1, ax2) = plt.subplots(nrows=1, ncols=2, sharey=True)\n",
    "ax2.semilogy(ts1, np.sqrt(cs1))\n",
    "ax2.set_title(\"IBM(1) prior: %u steps\" % len(ts1))\n",
    "ax1.semilogy(ts3, np.sqrt(cs3))\n",
    "ax1.set_title(\"IBM(2) prior: %u steps\" % len(ts3))\n",
    "plt.show()"
   ]
  },
  {
   "cell_type": "markdown",
   "metadata": {},
   "source": [
    "Both need roughly the same number of steps, even though the standard deviation of the IBM(2) prior is about 100 times smaller then the standard deviation of the IBM(1) prior. I suppose the reason is due to the choice of the whitened residual $\\epsilon_n = S_n^{-1/2}r_n$ as an error estimate ($r_n$ is the residual at the current step). For IBM(2) priors, the residual is smaller than for the IBM(1) prior. In fact, we can guess how much smaller it is: \n",
    "the residual of IBM(1) is roughly $h^2$ and the residual of IBM(2) is roughly $h^3$. However, the innovation term $S_n$ for IBM(3) is (very loosely speaking) proportional to $h^3$, too, so the gain in error estimate is tiny."
   ]
  },
  {
   "cell_type": "markdown",
   "metadata": {},
   "source": [
    "## Other filters\n",
    "\n",
    "Other filters have other issues. The innovation term of the extended Kalman filter incldues the Jacobian of the ODE r.h.s. $J_f$ and in fact, there seem to be settings where the innovation term is not even invertible without adding noise."
   ]
  },
  {
   "cell_type": "code",
   "execution_count": null,
   "metadata": {},
   "outputs": [],
   "source": [
    "from probnum.diffeq import logistic\n",
    "\n",
    "initrv = RandomVariable(distribution=Dirac(0.05*np.ones(1)))\n",
    "ivp = logistic([0., 2.5], initrv)\n",
    "ms, cs, ts1 = filter_ivp(ivp, tol=1e-3, which_prior=\"ibm2\", which_filt=\"kf\")\n",
    "ms1, cs1 = ms[:, 0], cs[:, 0, 0]\n",
    "ms2, cs2 = ms[:, 2], cs[:, 2, 2]\n",
    "\n",
    "ms, cs, ts3 = filter_ivp(ivp, tol=1e-3, which_prior=\"ibm2\", which_filt=\"ekf\")\n",
    "ms3, cs3 = ms[:, 0], cs[:, 0, 0]\n",
    "ms4, cs4 = ms[:, 2], cs[:, 2, 2]\n",
    "\n",
    "\n",
    "fig, ax = plt.subplots(nrows=2, ncols=2, sharex='col', sharey='row')\n",
    "ax[0][0].plot(ts3, (ms3))\n",
    "for t in ts3:\n",
    "    ax[0][0].axvline(t, linewidth=0.1, alpha=0.5)\n",
    "ax[0][0].set_title(\"EKF with IBM(2)\\n%u steps\" % len(ts3))\n",
    "ax[0][0].grid()\n",
    "\n",
    "ax[1][0].semilogy(ts3, np.sqrt(cs3))\n",
    "for t in ts3:\n",
    "    ax[1][0].axvline(t, linewidth=0.1, alpha=0.5)\n",
    "ax[1][0].grid()\n",
    "\n",
    "ax[0][1].plot(ts1, (ms1))\n",
    "for t in ts1:\n",
    "    ax[0][1].axvline(t, linewidth=0.1, alpha=0.5)\n",
    "ax[0][1].set_title(\"KF with IBM(2)\\n%u steps\" % len(ts1))\n",
    "ax[0][1].grid()\n",
    "\n",
    "\n",
    "ax[1][1].plot(ts1, np.sqrt(cs1))\n",
    "for t in ts1:\n",
    "    ax[1][1].axvline(t, linewidth=0.1, alpha=0.5)\n",
    "ax[1][1].grid()\n",
    "\n",
    "\n",
    "plt.show()\n",
    "\n",
    "\n"
   ]
  },
  {
   "cell_type": "code",
   "execution_count": null,
   "metadata": {},
   "outputs": [],
   "source": []
  },
  {
   "cell_type": "code",
   "execution_count": null,
   "metadata": {},
   "outputs": [],
   "source": []
  },
  {
   "cell_type": "code",
   "execution_count": 4,
   "metadata": {},
   "outputs": [
    {
     "name": "stdout",
     "output_type": "stream",
     "text": [
      "[[0.07149521 0.07149521]\n",
      " [0.07149521 0.07149521]]\n"
     ]
    },
    {
     "ename": "LinAlgError",
     "evalue": "Singular matrix",
     "output_type": "error",
     "traceback": [
      "\u001b[0;31m---------------------------------------------------------------------------\u001b[0m",
      "\u001b[0;31mLinAlgError\u001b[0m                               Traceback (most recent call last)",
      "\u001b[0;32m<ipython-input-4-38c04d276f5f>\u001b[0m in \u001b[0;36m<module>\u001b[0;34m\u001b[0m\n\u001b[1;32m      1\u001b[0m \u001b[0minitrv\u001b[0m \u001b[0;34m=\u001b[0m \u001b[0mRandomVariable\u001b[0m\u001b[0;34m(\u001b[0m\u001b[0mdistribution\u001b[0m\u001b[0;34m=\u001b[0m\u001b[0mDirac\u001b[0m\u001b[0;34m(\u001b[0m\u001b[0mnp\u001b[0m\u001b[0;34m.\u001b[0m\u001b[0marray\u001b[0m\u001b[0;34m(\u001b[0m\u001b[0;34m[\u001b[0m\u001b[0;36m20\u001b[0m\u001b[0;34m,\u001b[0m \u001b[0;36m20\u001b[0m\u001b[0;34m]\u001b[0m\u001b[0;34m)\u001b[0m\u001b[0;34m)\u001b[0m\u001b[0;34m)\u001b[0m\u001b[0;34m\u001b[0m\u001b[0;34m\u001b[0m\u001b[0m\n\u001b[1;32m      2\u001b[0m \u001b[0mivp\u001b[0m \u001b[0;34m=\u001b[0m \u001b[0mlotkavolterra\u001b[0m\u001b[0;34m(\u001b[0m\u001b[0;34m[\u001b[0m\u001b[0;36m0.\u001b[0m\u001b[0;34m,\u001b[0m \u001b[0;36m20.\u001b[0m\u001b[0;34m]\u001b[0m\u001b[0;34m,\u001b[0m \u001b[0minitrv\u001b[0m\u001b[0;34m)\u001b[0m\u001b[0;34m\u001b[0m\u001b[0;34m\u001b[0m\u001b[0m\n\u001b[0;32m----> 3\u001b[0;31m \u001b[0mms\u001b[0m\u001b[0;34m,\u001b[0m \u001b[0mcs\u001b[0m\u001b[0;34m,\u001b[0m \u001b[0mts\u001b[0m \u001b[0;34m=\u001b[0m \u001b[0mfilter_ivp_h\u001b[0m\u001b[0;34m(\u001b[0m\u001b[0mivp\u001b[0m\u001b[0;34m,\u001b[0m \u001b[0mstep\u001b[0m\u001b[0;34m=\u001b[0m\u001b[0;36m1e-1\u001b[0m\u001b[0;34m,\u001b[0m \u001b[0mwhich_prior\u001b[0m\u001b[0;34m=\u001b[0m\u001b[0;34m\"matern32\"\u001b[0m\u001b[0;34m)\u001b[0m\u001b[0;34m\u001b[0m\u001b[0;34m\u001b[0m\u001b[0m\n\u001b[0m\u001b[1;32m      4\u001b[0m \u001b[0mms1\u001b[0m\u001b[0;34m,\u001b[0m \u001b[0mcs1\u001b[0m \u001b[0;34m=\u001b[0m \u001b[0mms\u001b[0m\u001b[0;34m[\u001b[0m\u001b[0;34m:\u001b[0m\u001b[0;34m,\u001b[0m \u001b[0;36m0\u001b[0m\u001b[0;34m]\u001b[0m\u001b[0;34m,\u001b[0m \u001b[0mcs\u001b[0m\u001b[0;34m[\u001b[0m\u001b[0;34m:\u001b[0m\u001b[0;34m,\u001b[0m \u001b[0;36m0\u001b[0m\u001b[0;34m,\u001b[0m \u001b[0;36m0\u001b[0m\u001b[0;34m]\u001b[0m\u001b[0;34m\u001b[0m\u001b[0;34m\u001b[0m\u001b[0m\n\u001b[1;32m      5\u001b[0m \u001b[0mms2\u001b[0m\u001b[0;34m,\u001b[0m \u001b[0mcs2\u001b[0m \u001b[0;34m=\u001b[0m \u001b[0mms\u001b[0m\u001b[0;34m[\u001b[0m\u001b[0;34m:\u001b[0m\u001b[0;34m,\u001b[0m \u001b[0;36m2\u001b[0m\u001b[0;34m]\u001b[0m\u001b[0;34m,\u001b[0m \u001b[0mcs\u001b[0m\u001b[0;34m[\u001b[0m\u001b[0;34m:\u001b[0m\u001b[0;34m,\u001b[0m \u001b[0;36m2\u001b[0m\u001b[0;34m,\u001b[0m \u001b[0;36m2\u001b[0m\u001b[0;34m]\u001b[0m\u001b[0;34m\u001b[0m\u001b[0;34m\u001b[0m\u001b[0m\n",
      "\u001b[0;32m~/Programmes/probnum/PNENV/lib/python3.7/site-packages/probnum/diffeq/odefilter/odefilter.py\u001b[0m in \u001b[0;36mfilter_ivp_h\u001b[0;34m(ivp, step, which_prior, which_filt, **pars)\u001b[0m\n\u001b[1;32m    169\u001b[0m     \u001b[0mstprl\u001b[0m \u001b[0;34m=\u001b[0m \u001b[0m_step_to_steprule\u001b[0m\u001b[0;34m(\u001b[0m\u001b[0mstep\u001b[0m\u001b[0;34m)\u001b[0m\u001b[0;34m\u001b[0m\u001b[0;34m\u001b[0m\u001b[0m\n\u001b[1;32m    170\u001b[0m     \u001b[0mofi\u001b[0m \u001b[0;34m=\u001b[0m \u001b[0mGaussianIVPFilter\u001b[0m\u001b[0;34m(\u001b[0m\u001b[0mivp\u001b[0m\u001b[0;34m,\u001b[0m \u001b[0mgfilt\u001b[0m\u001b[0;34m,\u001b[0m \u001b[0mstprl\u001b[0m\u001b[0;34m)\u001b[0m\u001b[0;34m\u001b[0m\u001b[0;34m\u001b[0m\u001b[0m\n\u001b[0;32m--> 171\u001b[0;31m     \u001b[0;32mreturn\u001b[0m \u001b[0mofi\u001b[0m\u001b[0;34m.\u001b[0m\u001b[0msolve\u001b[0m\u001b[0;34m(\u001b[0m\u001b[0mfirststep\u001b[0m\u001b[0;34m=\u001b[0m\u001b[0mstep\u001b[0m\u001b[0;34m)\u001b[0m\u001b[0;34m\u001b[0m\u001b[0;34m\u001b[0m\u001b[0m\n\u001b[0m\u001b[1;32m    172\u001b[0m \u001b[0;34m\u001b[0m\u001b[0m\n\u001b[1;32m    173\u001b[0m \u001b[0;32mdef\u001b[0m \u001b[0m_string_to_prior\u001b[0m\u001b[0;34m(\u001b[0m\u001b[0mivp\u001b[0m\u001b[0;34m,\u001b[0m \u001b[0mwhich_prior\u001b[0m\u001b[0;34m,\u001b[0m \u001b[0;34m**\u001b[0m\u001b[0mpars\u001b[0m\u001b[0;34m)\u001b[0m\u001b[0;34m:\u001b[0m\u001b[0;34m\u001b[0m\u001b[0;34m\u001b[0m\u001b[0m\n",
      "\u001b[0;32m~/Programmes/probnum/PNENV/lib/python3.7/site-packages/probnum/diffeq/odefilter/odefilter.py\u001b[0m in \u001b[0;36msolve\u001b[0;34m(self, firststep, *args, **kwargs)\u001b[0m\n\u001b[1;32m     67\u001b[0m             \u001b[0mpredicted\u001b[0m \u001b[0;34m=\u001b[0m \u001b[0mself\u001b[0m\u001b[0;34m.\u001b[0m\u001b[0mgfilt\u001b[0m\u001b[0;34m.\u001b[0m\u001b[0mpredict\u001b[0m\u001b[0;34m(\u001b[0m\u001b[0mtimes\u001b[0m\u001b[0;34m[\u001b[0m\u001b[0;34m-\u001b[0m\u001b[0;36m1\u001b[0m\u001b[0;34m]\u001b[0m\u001b[0;34m,\u001b[0m \u001b[0mnew_time\u001b[0m\u001b[0;34m,\u001b[0m \u001b[0mcurrent\u001b[0m\u001b[0;34m,\u001b[0m \u001b[0;34m*\u001b[0m\u001b[0margs\u001b[0m\u001b[0;34m,\u001b[0m \u001b[0;34m**\u001b[0m\u001b[0mkwargs\u001b[0m\u001b[0;34m)\u001b[0m\u001b[0;34m\u001b[0m\u001b[0;34m\u001b[0m\u001b[0m\n\u001b[1;32m     68\u001b[0m             \u001b[0mzero_data\u001b[0m \u001b[0;34m=\u001b[0m \u001b[0;36m0.0\u001b[0m\u001b[0;34m\u001b[0m\u001b[0;34m\u001b[0m\u001b[0m\n\u001b[0;32m---> 69\u001b[0;31m             \u001b[0mcurrent\u001b[0m\u001b[0;34m,\u001b[0m \u001b[0mcovest\u001b[0m\u001b[0;34m,\u001b[0m \u001b[0mccest\u001b[0m\u001b[0;34m,\u001b[0m \u001b[0mmnest\u001b[0m \u001b[0;34m=\u001b[0m \u001b[0mself\u001b[0m\u001b[0;34m.\u001b[0m\u001b[0mgfilt\u001b[0m\u001b[0;34m.\u001b[0m\u001b[0mupdate\u001b[0m\u001b[0;34m(\u001b[0m\u001b[0mnew_time\u001b[0m\u001b[0;34m,\u001b[0m \u001b[0mpredicted\u001b[0m\u001b[0;34m,\u001b[0m \u001b[0mzero_data\u001b[0m\u001b[0;34m,\u001b[0m \u001b[0;34m*\u001b[0m\u001b[0margs\u001b[0m\u001b[0;34m,\u001b[0m \u001b[0;34m**\u001b[0m\u001b[0mkwargs\u001b[0m\u001b[0;34m)\u001b[0m\u001b[0;34m\u001b[0m\u001b[0;34m\u001b[0m\u001b[0m\n\u001b[0m\u001b[1;32m     70\u001b[0m             \u001b[0merrorest\u001b[0m\u001b[0;34m,\u001b[0m \u001b[0mssq\u001b[0m \u001b[0;34m=\u001b[0m \u001b[0mself\u001b[0m\u001b[0;34m.\u001b[0m\u001b[0m_estimate_error\u001b[0m\u001b[0;34m(\u001b[0m\u001b[0mcurrent\u001b[0m\u001b[0;34m.\u001b[0m\u001b[0mmean\u001b[0m\u001b[0;34m(\u001b[0m\u001b[0;34m)\u001b[0m\u001b[0;34m,\u001b[0m \u001b[0mccest\u001b[0m\u001b[0;34m,\u001b[0m \u001b[0mcovest\u001b[0m\u001b[0;34m,\u001b[0m \u001b[0mmnest\u001b[0m\u001b[0;34m)\u001b[0m\u001b[0;34m\u001b[0m\u001b[0;34m\u001b[0m\u001b[0m\n\u001b[1;32m     71\u001b[0m             \u001b[0;32mif\u001b[0m \u001b[0mself\u001b[0m\u001b[0;34m.\u001b[0m\u001b[0msteprule\u001b[0m\u001b[0;34m.\u001b[0m\u001b[0mis_accepted\u001b[0m\u001b[0;34m(\u001b[0m\u001b[0mstep\u001b[0m\u001b[0;34m,\u001b[0m \u001b[0merrorest\u001b[0m\u001b[0;34m)\u001b[0m \u001b[0;32mis\u001b[0m \u001b[0;32mTrue\u001b[0m\u001b[0;34m:\u001b[0m\u001b[0;34m\u001b[0m\u001b[0;34m\u001b[0m\u001b[0m\n",
      "\u001b[0;32m~/Programmes/probnum/PNENV/lib/python3.7/site-packages/probnum/filtsmooth/gaussfiltsmooth/extendedkalman.py\u001b[0m in \u001b[0;36mupdate\u001b[0;34m(self, time, randvar, data, *args, **kwargs)\u001b[0m\n\u001b[1;32m     96\u001b[0m         \u001b[0mHence\u001b[0m\u001b[0;34m,\u001b[0m \u001b[0mthe\u001b[0m \u001b[0mupdate\u001b[0m \u001b[0;32mis\u001b[0m \u001b[0mstraightforward\u001b[0m\u001b[0;34m.\u001b[0m\u001b[0;34m\u001b[0m\u001b[0;34m\u001b[0m\u001b[0m\n\u001b[1;32m     97\u001b[0m         \"\"\"\n\u001b[0;32m---> 98\u001b[0;31m         \u001b[0;32mreturn\u001b[0m \u001b[0mself\u001b[0m\u001b[0;34m.\u001b[0m\u001b[0m_update_discrete\u001b[0m\u001b[0;34m(\u001b[0m\u001b[0mtime\u001b[0m\u001b[0;34m,\u001b[0m \u001b[0mrandvar\u001b[0m\u001b[0;34m,\u001b[0m \u001b[0mdata\u001b[0m\u001b[0;34m,\u001b[0m \u001b[0;34m*\u001b[0m\u001b[0margs\u001b[0m\u001b[0;34m,\u001b[0m \u001b[0;34m**\u001b[0m\u001b[0mkwargs\u001b[0m\u001b[0;34m)\u001b[0m\u001b[0;34m\u001b[0m\u001b[0;34m\u001b[0m\u001b[0m\n\u001b[0m\u001b[1;32m     99\u001b[0m \u001b[0;34m\u001b[0m\u001b[0m\n\u001b[1;32m    100\u001b[0m     \u001b[0;32mdef\u001b[0m \u001b[0m_update_discrete\u001b[0m\u001b[0;34m(\u001b[0m\u001b[0mself\u001b[0m\u001b[0;34m,\u001b[0m \u001b[0mtime\u001b[0m\u001b[0;34m,\u001b[0m \u001b[0mrandvar\u001b[0m\u001b[0;34m,\u001b[0m \u001b[0mdata\u001b[0m\u001b[0;34m,\u001b[0m \u001b[0;34m*\u001b[0m\u001b[0margs\u001b[0m\u001b[0;34m,\u001b[0m \u001b[0;34m**\u001b[0m\u001b[0mkwargs\u001b[0m\u001b[0;34m)\u001b[0m\u001b[0;34m:\u001b[0m\u001b[0;34m\u001b[0m\u001b[0;34m\u001b[0m\u001b[0m\n",
      "\u001b[0;32m~/Programmes/probnum/PNENV/lib/python3.7/site-packages/probnum/filtsmooth/gaussfiltsmooth/extendedkalman.py\u001b[0m in \u001b[0;36m_update_discrete\u001b[0;34m(self, time, randvar, data, *args, **kwargs)\u001b[0m\n\u001b[1;32m    110\u001b[0m         \u001b[0mprint\u001b[0m\u001b[0;34m(\u001b[0m\u001b[0mcovest\u001b[0m\u001b[0;34m)\u001b[0m\u001b[0;34m\u001b[0m\u001b[0;34m\u001b[0m\u001b[0m\n\u001b[1;32m    111\u001b[0m         \u001b[0mccest\u001b[0m \u001b[0;34m=\u001b[0m \u001b[0mcpred\u001b[0m \u001b[0;34m@\u001b[0m \u001b[0mjacob\u001b[0m\u001b[0;34m.\u001b[0m\u001b[0mT\u001b[0m\u001b[0;34m\u001b[0m\u001b[0;34m\u001b[0m\u001b[0m\n\u001b[0;32m--> 112\u001b[0;31m         \u001b[0mmean\u001b[0m \u001b[0;34m=\u001b[0m \u001b[0mmpred\u001b[0m \u001b[0;34m+\u001b[0m \u001b[0mccest\u001b[0m \u001b[0;34m@\u001b[0m \u001b[0mnp\u001b[0m\u001b[0;34m.\u001b[0m\u001b[0mlinalg\u001b[0m\u001b[0;34m.\u001b[0m\u001b[0msolve\u001b[0m\u001b[0;34m(\u001b[0m\u001b[0mcovest\u001b[0m\u001b[0;34m,\u001b[0m \u001b[0mdata\u001b[0m \u001b[0;34m-\u001b[0m \u001b[0mmeanest\u001b[0m\u001b[0;34m)\u001b[0m\u001b[0;34m\u001b[0m\u001b[0;34m\u001b[0m\u001b[0m\n\u001b[0m\u001b[1;32m    113\u001b[0m         \u001b[0mcov\u001b[0m \u001b[0;34m=\u001b[0m \u001b[0mcpred\u001b[0m \u001b[0;34m-\u001b[0m \u001b[0mccest\u001b[0m \u001b[0;34m@\u001b[0m \u001b[0mnp\u001b[0m\u001b[0;34m.\u001b[0m\u001b[0mlinalg\u001b[0m\u001b[0;34m.\u001b[0m\u001b[0msolve\u001b[0m\u001b[0;34m(\u001b[0m\u001b[0mcovest\u001b[0m\u001b[0;34m.\u001b[0m\u001b[0mT\u001b[0m\u001b[0;34m,\u001b[0m \u001b[0mccest\u001b[0m\u001b[0;34m.\u001b[0m\u001b[0mT\u001b[0m\u001b[0;34m)\u001b[0m\u001b[0;34m\u001b[0m\u001b[0;34m\u001b[0m\u001b[0m\n\u001b[1;32m    114\u001b[0m         \u001b[0;32mreturn\u001b[0m \u001b[0mRandomVariable\u001b[0m\u001b[0;34m(\u001b[0m\u001b[0mdistribution\u001b[0m\u001b[0;34m=\u001b[0m\u001b[0mNormal\u001b[0m\u001b[0;34m(\u001b[0m\u001b[0mmean\u001b[0m\u001b[0;34m,\u001b[0m \u001b[0mcov\u001b[0m\u001b[0;34m)\u001b[0m\u001b[0;34m)\u001b[0m\u001b[0;34m,\u001b[0m \u001b[0mcovest\u001b[0m\u001b[0;34m,\u001b[0m \u001b[0mccest\u001b[0m\u001b[0;34m,\u001b[0m \u001b[0mmeanest\u001b[0m\u001b[0;34m\u001b[0m\u001b[0;34m\u001b[0m\u001b[0m\n",
      "\u001b[0;32m<__array_function__ internals>\u001b[0m in \u001b[0;36msolve\u001b[0;34m(*args, **kwargs)\u001b[0m\n",
      "\u001b[0;32m~/Programmes/probnum/PNENV/lib/python3.7/site-packages/numpy/linalg/linalg.py\u001b[0m in \u001b[0;36msolve\u001b[0;34m(a, b)\u001b[0m\n\u001b[1;32m    397\u001b[0m     \u001b[0msignature\u001b[0m \u001b[0;34m=\u001b[0m \u001b[0;34m'DD->D'\u001b[0m \u001b[0;32mif\u001b[0m \u001b[0misComplexType\u001b[0m\u001b[0;34m(\u001b[0m\u001b[0mt\u001b[0m\u001b[0;34m)\u001b[0m \u001b[0;32melse\u001b[0m \u001b[0;34m'dd->d'\u001b[0m\u001b[0;34m\u001b[0m\u001b[0;34m\u001b[0m\u001b[0m\n\u001b[1;32m    398\u001b[0m     \u001b[0mextobj\u001b[0m \u001b[0;34m=\u001b[0m \u001b[0mget_linalg_error_extobj\u001b[0m\u001b[0;34m(\u001b[0m\u001b[0m_raise_linalgerror_singular\u001b[0m\u001b[0;34m)\u001b[0m\u001b[0;34m\u001b[0m\u001b[0;34m\u001b[0m\u001b[0m\n\u001b[0;32m--> 399\u001b[0;31m     \u001b[0mr\u001b[0m \u001b[0;34m=\u001b[0m \u001b[0mgufunc\u001b[0m\u001b[0;34m(\u001b[0m\u001b[0ma\u001b[0m\u001b[0;34m,\u001b[0m \u001b[0mb\u001b[0m\u001b[0;34m,\u001b[0m \u001b[0msignature\u001b[0m\u001b[0;34m=\u001b[0m\u001b[0msignature\u001b[0m\u001b[0;34m,\u001b[0m \u001b[0mextobj\u001b[0m\u001b[0;34m=\u001b[0m\u001b[0mextobj\u001b[0m\u001b[0;34m)\u001b[0m\u001b[0;34m\u001b[0m\u001b[0;34m\u001b[0m\u001b[0m\n\u001b[0m\u001b[1;32m    400\u001b[0m \u001b[0;34m\u001b[0m\u001b[0m\n\u001b[1;32m    401\u001b[0m     \u001b[0;32mreturn\u001b[0m \u001b[0mwrap\u001b[0m\u001b[0;34m(\u001b[0m\u001b[0mr\u001b[0m\u001b[0;34m.\u001b[0m\u001b[0mastype\u001b[0m\u001b[0;34m(\u001b[0m\u001b[0mresult_t\u001b[0m\u001b[0;34m,\u001b[0m \u001b[0mcopy\u001b[0m\u001b[0;34m=\u001b[0m\u001b[0;32mFalse\u001b[0m\u001b[0;34m)\u001b[0m\u001b[0;34m)\u001b[0m\u001b[0;34m\u001b[0m\u001b[0;34m\u001b[0m\u001b[0m\n",
      "\u001b[0;32m~/Programmes/probnum/PNENV/lib/python3.7/site-packages/numpy/linalg/linalg.py\u001b[0m in \u001b[0;36m_raise_linalgerror_singular\u001b[0;34m(err, flag)\u001b[0m\n\u001b[1;32m     95\u001b[0m \u001b[0;34m\u001b[0m\u001b[0m\n\u001b[1;32m     96\u001b[0m \u001b[0;32mdef\u001b[0m \u001b[0m_raise_linalgerror_singular\u001b[0m\u001b[0;34m(\u001b[0m\u001b[0merr\u001b[0m\u001b[0;34m,\u001b[0m \u001b[0mflag\u001b[0m\u001b[0;34m)\u001b[0m\u001b[0;34m:\u001b[0m\u001b[0;34m\u001b[0m\u001b[0;34m\u001b[0m\u001b[0m\n\u001b[0;32m---> 97\u001b[0;31m     \u001b[0;32mraise\u001b[0m \u001b[0mLinAlgError\u001b[0m\u001b[0;34m(\u001b[0m\u001b[0;34m\"Singular matrix\"\u001b[0m\u001b[0;34m)\u001b[0m\u001b[0;34m\u001b[0m\u001b[0;34m\u001b[0m\u001b[0m\n\u001b[0m\u001b[1;32m     98\u001b[0m \u001b[0;34m\u001b[0m\u001b[0m\n\u001b[1;32m     99\u001b[0m \u001b[0;32mdef\u001b[0m \u001b[0m_raise_linalgerror_nonposdef\u001b[0m\u001b[0;34m(\u001b[0m\u001b[0merr\u001b[0m\u001b[0;34m,\u001b[0m \u001b[0mflag\u001b[0m\u001b[0;34m)\u001b[0m\u001b[0;34m:\u001b[0m\u001b[0;34m\u001b[0m\u001b[0;34m\u001b[0m\u001b[0m\n",
      "\u001b[0;31mLinAlgError\u001b[0m: Singular matrix"
     ]
    }
   ],
   "source": [
    "initrv = RandomVariable(distribution=Dirac(np.array([20, 20])))\n",
    "ivp = lotkavolterra([0., 20.], initrv)\n",
    "ms, cs, ts = filter_ivp_h(ivp, step=1e-1, which_prior=\"matern32\")\n",
    "ms1, cs1 = ms[:, 0], cs[:, 0, 0]\n",
    "ms2, cs2 = ms[:, 2], cs[:, 2, 2]\n",
    "\n",
    "plt.plot(ts, ms1, label=\"Prey\")\n",
    "plt.plot(ts, ms2, label=\"Predators\")\n",
    "plt.legend()\n",
    "plt.show()"
   ]
  },
  {
   "cell_type": "code",
   "execution_count": null,
   "metadata": {},
   "outputs": [],
   "source": []
  },
  {
   "cell_type": "code",
   "execution_count": null,
   "metadata": {},
   "outputs": [],
   "source": []
  }
 ],
 "metadata": {
  "kernelspec": {
   "display_name": "Python 3",
   "language": "python",
   "name": "python3"
  },
  "language_info": {
   "codemirror_mode": {
    "name": "ipython",
    "version": 3
   },
   "file_extension": ".py",
   "mimetype": "text/x-python",
   "name": "python",
   "nbconvert_exporter": "python",
   "pygments_lexer": "ipython3",
   "version": "3.7.5"
  }
 },
 "nbformat": 4,
 "nbformat_minor": 4
}
