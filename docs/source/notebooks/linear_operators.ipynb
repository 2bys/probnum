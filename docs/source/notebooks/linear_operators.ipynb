{
 "cells": [
  {
   "cell_type": "markdown",
   "metadata": {},
   "source": [
    "# Linear Operators\n",
    "\n",
    "Finite dimensional linear operators allow matrix algebra without explicitly constructing a full representation. Instead it suffices to define a matrix-vector product and a shape attribute. This avoids unnecessary memory usage and can often be more convenient to derive."
   ]
  },
  {
   "cell_type": "markdown",
   "metadata": {},
   "source": [
    "## Sparse Arrays"
   ]
  },
  {
   "cell_type": "code",
   "execution_count": 10,
   "metadata": {},
   "outputs": [
    {
     "data": {
      "image/png": "[encoded data removed]",
      "text/plain": [
       "<Figure size 288x288 with 1 Axes>"
      ]
     },
     "metadata": {
      "needs_background": "light"
     },
     "output_type": "display_data"
    }
   ],
   "source": [
    "# Plotting\n",
    "%matplotlib inline\n",
    "import matplotlib.pyplot as plt\n",
    "#plt.rcParams['figure.figsize'] = [9.5, 6]\n",
    "plt.rcParams['font.size'] = 18 \n",
    "plt.rcParams['text.usetex'] = True\n",
    "# Imports\n",
    "import numpy as np\n",
    "import scipy.sparse\n",
    "from probnum.linalg.linear_operators import MatrixMult, Identity\n",
    "\n",
    "# Linear operator from sparse matrix\n",
    "n = 10\n",
    "mat = scipy.sparse.rand(m=n, n=n, density=0.1)\n",
    "A = MatrixMult(A=mat)\n",
    "\n",
    "# Plot\n",
    "fig, axes = plt.subplots(nrows=1, ncols=1, figsize=(4, 4))\n",
    "axes.imshow(A.todense())\n",
    "axes.set_axis_off()\n",
    "axes.title.set_text('$A$')\n",
    "fig.tight_layout()"
   ]
  },
  {
   "cell_type": "markdown",
   "metadata": {},
   "source": [
    "## Basic Arithmetic"
   ]
  },
  {
   "cell_type": "code",
   "execution_count": 2,
   "metadata": {},
   "outputs": [
    {
     "ename": "AttributeError",
     "evalue": "'_SumLinearOperator' object has no attribute 'todense'",
     "output_type": "error",
     "traceback": [
      "\u001b[0;31m---------------------------------------------------------------------------\u001b[0m",
      "\u001b[0;31mAttributeError\u001b[0m                            Traceback (most recent call last)",
      "\u001b[0;32m<ipython-input-2-b6aae5b88e10>\u001b[0m in \u001b[0;36m<module>\u001b[0;34m\u001b[0m\n\u001b[1;32m      1\u001b[0m \u001b[0mId\u001b[0m \u001b[0;34m=\u001b[0m \u001b[0mIdentity\u001b[0m\u001b[0;34m(\u001b[0m\u001b[0mshape\u001b[0m\u001b[0;34m=\u001b[0m\u001b[0mn\u001b[0m\u001b[0;34m)\u001b[0m\u001b[0;34m\u001b[0m\u001b[0m\n\u001b[1;32m      2\u001b[0m \u001b[0mB\u001b[0m \u001b[0;34m=\u001b[0m \u001b[0mA\u001b[0m \u001b[0;34m+\u001b[0m \u001b[0mId\u001b[0m\u001b[0;34m\u001b[0m\u001b[0m\n\u001b[0;32m----> 3\u001b[0;31m \u001b[0mprint\u001b[0m\u001b[0;34m(\u001b[0m\u001b[0mB\u001b[0m\u001b[0;34m.\u001b[0m\u001b[0mtodense\u001b[0m\u001b[0;34m(\u001b[0m\u001b[0;34m)\u001b[0m\u001b[0;34m)\u001b[0m\u001b[0;34m\u001b[0m\u001b[0m\n\u001b[0m",
      "\u001b[0;31mAttributeError\u001b[0m: '_SumLinearOperator' object has no attribute 'todense'"
     ]
    }
   ],
   "source": [
    "Id = Identity(shape=n)\n",
    "B = A + Id\n",
    "print(B.todense())"
   ]
  },
  {
   "cell_type": "markdown",
   "metadata": {},
   "source": [
    "## The Kronecker Product"
   ]
  },
  {
   "cell_type": "code",
   "execution_count": 33,
   "metadata": {},
   "outputs": [
    {
     "name": "stdout",
     "output_type": "stream",
     "text": [
      "[[ 4. 16.  1.  4.  4. 16.]\n",
      " [ 2.  8.  3. 12.  2.  8.]]\n"
     ]
    },
    {
     "data": {
      "image/png": "[encoded data removed]",
      "text/plain": [
       "<Figure size 864x216 with 3 Axes>"
      ]
     },
     "metadata": {
      "needs_background": "light"
     },
     "output_type": "display_data"
    }
   ],
   "source": [
    "from probnum.linalg.linear_operators import Kronecker, SymmetricKronecker\n",
    "\n",
    "# Kronecker Product\n",
    "A = np.array([[4, 1, 4], \n",
    "              [2, 3, 2]])\n",
    "B = np.array([[1, 4]])\n",
    "W = Kronecker(A=A, B=B)\n",
    "print(W_dense)\n",
    "\n",
    "# in order to plot both heatmaps on the same scale, find the plotting range\n",
    "W_dense = W.todense()\n",
    "vmin = np.minimum(np.min(A), np.min(B))\n",
    "vmin = np.minimum(np.min(W_dense), vmin)\n",
    "vmax = np.maximum(np.max(A), np.max(B))\n",
    "vmax = np.maximum(np.max(W_dense), vmax)\n",
    "\n",
    "# Plot\n",
    "fig, axes = plt.subplots(nrows=1, ncols=3, figsize=(12, 3), gridspec_kw={'width_ratios': [1, 1, 2]})\n",
    "axes[0].imshow(A, vmin=vmin, vmax=vmax)\n",
    "axes[0].set_axis_off()\n",
    "axes[0].title.set_text('$A$')\n",
    "axes[1].imshow(B, vmin=vmin, vmax=vmax)\n",
    "axes[1].set_axis_off()\n",
    "axes[1].title.set_text('$B$')\n",
    "axes[2].imshow(W_dense, vmin=vmin, vmax=vmax)\n",
    "axes[2].set_axis_off()\n",
    "axes[2].title.set_text('$A \\otimes B$')\n",
    "fig.tight_layout()"
   ]
  },
  {
   "cell_type": "code",
   "execution_count": 31,
   "metadata": {},
   "outputs": [
    {
     "data": {
      "image/png": "[encoded data removed]",
      "text/plain": [
       "<Figure size 576x216 with 3 Axes>"
      ]
     },
     "metadata": {
      "needs_background": "light"
     },
     "output_type": "display_data"
    }
   ],
   "source": [
    "# Symmetric Kronecker Product\n",
    "C = np.array([[5, 1], \n",
    "              [2, 10]])\n",
    "D = np.array([[1, 2], \n",
    "              [3, 4]])\n",
    "Ws = SymmetricKronecker(A=C, B=D)\n",
    "\n",
    "# in order to plot both heatmaps on the same scale, find the plotting range\n",
    "Ws_dense = Ws.todense()\n",
    "vmin = np.minimum(np.min(C), np.min(D))\n",
    "vmin = np.minimum(np.min(Ws_dense), vmin)\n",
    "vmax = np.maximum(np.max(C), np.max(D))\n",
    "vmax = np.maximum(np.max(Ws_dense), vmax)\n",
    "\n",
    "# Plot\n",
    "fig, axes = plt.subplots(nrows=1, ncols=3, figsize=(8, 3), gridspec_kw={'width_ratios': [1, 1, 2]})\n",
    "axes[0].imshow(C, vmin=vmin, vmax=vmax)\n",
    "axes[0].set_axis_off()\n",
    "axes[0].title.set_text('$C$')\n",
    "axes[1].imshow(D, vmin=vmin, vmax=vmax)\n",
    "axes[1].set_axis_off()\n",
    "axes[1].title.set_text('$D$')\n",
    "axes[2].imshow(Ws_dense, vmin=vmin, vmax=vmax)\n",
    "axes[2].set_axis_off()\n",
    "axes[2].title.set_text('$C \\otimes_s D$')\n",
    "fig.tight_layout()"
   ]
  },
  {
   "cell_type": "markdown",
   "metadata": {},
   "source": [
    "## Linear Operators and Linear Solvers\n",
    "\n",
    "Many methods implemented in `probnum.linalg` can also take `LinearOperators` as inputs."
   ]
  },
  {
   "cell_type": "code",
   "execution_count": null,
   "metadata": {},
   "outputs": [],
   "source": []
  }
 ],
 "metadata": {
  "kernelspec": {
   "display_name": "probnum_kernel",
   "language": "python",
   "name": "probnum_kernel"
  },
  "language_info": {
   "codemirror_mode": {
    "name": "ipython",
    "version": 3
   },
   "file_extension": ".py",
   "mimetype": "text/x-python",
   "name": "python",
   "nbconvert_exporter": "python",
   "pygments_lexer": "ipython3",
   "version": "3.7.0"
  }
 },
 "nbformat": 4,
 "nbformat_minor": 2
}
