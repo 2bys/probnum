{
 "cells": [
  {
   "cell_type": "markdown",
   "metadata": {},
   "source": [
    "# Adaptive step size ODE filters\n",
    "\n",
    "\n",
    "In `probnum`, we implement the step size adaptation scheme from Schober et al., 2019:\n",
    "\n",
    "https://arxiv.org/pdf/1610.05261.pdf\n",
    "\n",
    "We show how for the KF-IBM(1) Combo, they work very well (which is what they write in their paper) but also, how it doesn't quite generalise to other filters."
   ]
  },
  {
   "cell_type": "code",
   "execution_count": 1,
   "metadata": {},
   "outputs": [],
   "source": [
    "# Make inline plots vector graphics instead of raster graphics\n",
    "%matplotlib inline\n",
    "from IPython.display import set_matplotlib_formats\n",
    "set_matplotlib_formats('pdf', 'svg')\n",
    "\n",
    "# Plotting\n",
    "import matplotlib.pyplot as plt\n",
    "#plt.rcParams['figure.figsize'] = [9.5, 6]\n",
    "plt.rcParams['font.size'] = 18 \n",
    "plt.rcParams['text.usetex'] = True\n",
    "plt.rcParams['text.latex.preamble'] = [r'\\usepackage{amsfonts}', r'\\usepackage{amsmath}']"
   ]
  },
  {
   "cell_type": "code",
   "execution_count": 2,
   "metadata": {},
   "outputs": [],
   "source": [
    "import matplotlib.pyplot as plt\n",
    "import numpy as np"
   ]
  },
  {
   "cell_type": "code",
   "execution_count": 3,
   "metadata": {},
   "outputs": [
    {
     "ename": "ImportError",
     "evalue": "cannot import name 'filter_ivp' from 'probnum.diffeq' (/Users/jwenger/.virtualenvs/probnum/lib/python3.7/site-packages/probnum/diffeq/__init__.py)",
     "output_type": "error",
     "traceback": [
      "\u001b[0;31m---------------------------------------------------------------------------\u001b[0m",
      "\u001b[0;31mImportError\u001b[0m                               Traceback (most recent call last)",
      "\u001b[0;32m<ipython-input-3-77b72b204082>\u001b[0m in \u001b[0;36m<module>\u001b[0;34m\u001b[0m\n\u001b[0;32m----> 1\u001b[0;31m \u001b[0;32mfrom\u001b[0m \u001b[0mprobnum\u001b[0m\u001b[0;34m.\u001b[0m\u001b[0mdiffeq\u001b[0m \u001b[0;32mimport\u001b[0m \u001b[0mlotkavolterra\u001b[0m\u001b[0;34m,\u001b[0m \u001b[0mfilter_ivp\u001b[0m\u001b[0;34m,\u001b[0m \u001b[0mfilter_ivp_h\u001b[0m\u001b[0;34m\u001b[0m\u001b[0;34m\u001b[0m\u001b[0m\n\u001b[0m\u001b[1;32m      2\u001b[0m \u001b[0;32mfrom\u001b[0m \u001b[0mprobnum\u001b[0m\u001b[0;34m.\u001b[0m\u001b[0mprob\u001b[0m \u001b[0;32mimport\u001b[0m \u001b[0mRandomVariable\u001b[0m\u001b[0;34m,\u001b[0m \u001b[0mNormal\u001b[0m\u001b[0;34m,\u001b[0m \u001b[0mDirac\u001b[0m\u001b[0;34m\u001b[0m\u001b[0;34m\u001b[0m\u001b[0m\n",
      "\u001b[0;31mImportError\u001b[0m: cannot import name 'filter_ivp' from 'probnum.diffeq' (/Users/jwenger/.virtualenvs/probnum/lib/python3.7/site-packages/probnum/diffeq/__init__.py)"
     ]
    }
   ],
   "source": [
    "from probnum.diffeq import lotkavolterra, filter_ivp, filter_ivp_h\n",
    "from probnum.prob import RandomVariable, Normal, Dirac\n"
   ]
  },
  {
   "cell_type": "markdown",
   "metadata": {},
   "source": [
    "### IBM(1) with KF\n",
    "\n",
    "We start by showing how solving an IVP with adaptive steps works:"
   ]
  },
  {
   "cell_type": "code",
   "execution_count": null,
   "metadata": {},
   "outputs": [],
   "source": [
    "initrv = RandomVariable(distribution=Dirac(np.array([20, 20])))\n",
    "ivp = lotkavolterra([0., 20.], initrv)\n",
    "ms, cs, ts = filter_ivp(ivp, tol=1e-1)\n",
    "ms1, cs1 = ms[:, 0], cs[:, 0, 0]\n",
    "ms2, cs2 = ms[:, 2], cs[:, 2, 2]\n",
    "\n",
    "plt.plot(ts, ms1, label=\"Prey\")\n",
    "plt.plot(ts, ms2, label=\"Predators\")\n",
    "plt.legend()\n",
    "plt.show()"
   ]
  },
  {
   "cell_type": "markdown",
   "metadata": {},
   "source": [
    "Now lets repeat the previous plot, but this time we visualise the steps:"
   ]
  },
  {
   "cell_type": "code",
   "execution_count": null,
   "metadata": {},
   "outputs": [],
   "source": [
    "initrv = RandomVariable(distribution=Dirac(np.array([20, 20])))\n",
    "ivp = lotkavolterra([0., 20.], initrv)\n",
    "ms, cs, ts = filter_ivp(ivp, tol=1e-1, which_prior=\"ibm1\")\n",
    "ms1, cs1 = ms[:, 0], cs[:, 0, 0]\n",
    "ms2, cs2 = ms[:, 2], cs[:, 2, 2]\n",
    "\n",
    "plt.plot(ts, ms1, label=\"Prey\")\n",
    "plt.plot(ts, ms2, label=\"Predators\")\n",
    "for t in ts:\n",
    "    plt.axvline(t, linewidth=0.15, color=\"gray\")\n",
    "plt.legend()\n",
    "plt.show()"
   ]
  },
  {
   "cell_type": "markdown",
   "metadata": {},
   "source": [
    "Note how more steps are taken at the inclines than at the declines. "
   ]
  },
  {
   "cell_type": "markdown",
   "metadata": {},
   "source": [
    "## Adaptive steps in a very noisy setting and q=2 priors\n",
    "\n",
    "We investigate how different priors and different filters fare, wenn the ODE is corrupted. That is, we add $R=0.5$ to the measurement model at each step."
   ]
  },
  {
   "cell_type": "code",
   "execution_count": null,
   "metadata": {},
   "outputs": [],
   "source": [
    "priors = [\"ibm2\", \"ioup2\", \"matern52\"]\n",
    "filters = [\"kf\", \"ekf\", \"ukf\"]\n",
    "\n",
    "initrv = RandomVariable(distribution=Dirac(np.array([20, 20])))\n",
    "t0, tmax = 0., 16\n",
    "ivp = lotkavolterra([t0, tmax], initrv)\n",
    "\n",
    "fig, ax = plt.subplots(nrows=len(priors), ncols=len(filters), sharex=True, sharey=True, figsize=(12, 12))\n",
    "\n",
    "for idx in range(len(priors)):   # priors in rows\n",
    "    for jdx in range(len(filters)):  # filters in cols\n",
    "        ms, cs, ts = filter_ivp(ivp, tol=0.25, firststep=None, evlvar=5e-1, \n",
    "                                which_prior=priors[idx], which_filt=filters[jdx])\n",
    "        ms1, cs1 = ms[:, 0], cs[:, 0, 0]\n",
    "        ms2, cs2 = ms[:, 3], cs[:, 3, 3]\n",
    "        ax[idx][jdx].plot(ts, ms1)\n",
    "        ax[idx][jdx].fill_between(ts, ms1-3*cs1, ms1+3*cs1, alpha=0.25)\n",
    "        ax[idx][jdx].plot(ts, ms2)\n",
    "        ax[idx][jdx].fill_between(ts, ms2-3*cs2, ms2+3*cs2, alpha=0.25)\n",
    "        for t in ts:\n",
    "            ax[idx][jdx].axvline(t, linewidth=0.1, color=\"black\")\n",
    "        ax[idx][jdx].set_title(priors[idx] + \" - \" + filters[jdx])\n",
    "        ax[idx][jdx].set_xlim((t0, tmax))\n",
    "        ax[idx][jdx].set_ylim((-10, 75))\n",
    "        ax[idx][jdx].set_title(priors[idx] + \" - \" + filters[jdx])\n",
    "plt.show()"
   ]
  },
  {
   "cell_type": "markdown",
   "metadata": {},
   "source": [
    "Note how the Matern prior goes to sleep straightaway. The IOUP and IBM priors seem to retract some sort of periodicity, especially with the KF method. EKF and UKF are doing really badly, but at least their uncertainty explodes which is something. \n",
    "\n",
    "It seems that IOUP implies more steps than IBM and that Matern implies many more steps. This is probably due to the different whitenings in error estimation: the innovation term is much smaller for Matern and IOUP, hence the error estimate is increased compared to the IBM. It is not clear what the better choice is between IBM and IOUP, howeveer, it is evident that the innovation term for Matern is a bit overconfident."
   ]
  },
  {
   "cell_type": "markdown",
   "metadata": {},
   "source": [
    "## The same, in a \"nicer\" setting\n",
    "\n",
    "Here, nicer means: a lot less evaluation varianc (1e-6 instead of 1e0). This is a well-posed problem and as such, should be solved well with the adaptive step sizes. "
   ]
  },
  {
   "cell_type": "code",
   "execution_count": null,
   "metadata": {},
   "outputs": [],
   "source": [
    "priors = [\"ibm2\", \"ioup2\", \"matern52\"]\n",
    "filters = [\"kf\", \"ekf\", \"ukf\"]\n",
    "\n",
    "initrv = RandomVariable(distribution=Dirac(np.array([20, 20])))\n",
    "t0, tmax = 0., 16\n",
    "ivp = lotkavolterra([t0, tmax], initrv)\n",
    "\n",
    "fig, ax = plt.subplots(nrows=len(priors), ncols=len(filters), sharex=True, sharey=True, figsize=(12, 12))\n",
    "\n",
    "for idx in range(len(priors)):   # priors in rows\n",
    "    for jdx in range(len(filters)):  # filters in cols\n",
    "        ms, cs, ts = filter_ivp(ivp, tol=0.25, firststep=None, evlvar=1e-06,\n",
    "                                which_prior=priors[idx], which_filt=filters[jdx])\n",
    "        ms1, cs1 = ms[:, 0], cs[:, 0, 0]\n",
    "        ms2, cs2 = ms[:, 3], cs[:, 3, 3]\n",
    "        ax[idx][jdx].plot(ts, ms1)\n",
    "        ax[idx][jdx].fill_between(ts, ms1-30*cs1, ms1+30*cs1, alpha=0.25)\n",
    "        ax[idx][jdx].plot(ts, ms2)\n",
    "        ax[idx][jdx].fill_between(ts, ms2-30*cs2, ms2+30*cs2, alpha=0.25)\n",
    "        for t in ts:\n",
    "            ax[idx][jdx].axvline(t, linewidth=0.05, color=\"black\")\n",
    "        ax[idx][jdx].set_title(priors[idx] + \" - \" + filters[jdx])\n",
    "        ax[idx][jdx].set_xlim((t0, tmax))\n",
    "        ax[idx][jdx].set_ylim((-10, 35))\n",
    "        ax[idx][jdx].set_title(priors[idx] + \" - \" + filters[jdx])\n",
    "plt.show()"
   ]
  },
  {
   "cell_type": "markdown",
   "metadata": {},
   "source": [
    "They all seem to catch the true solution. Note again how the Matern prior again takes (probably way) too many steps. But at least it catches the true solution. EKF and UKF seem unstable, but using them in conjunction with IOUP seems to lessen the problem. At least for IBM their uncertainties are very larte at the right places, which is something. In general it seems that IOUP fits a bit better for Lotka-Volterra equations but that is a rather vague statement and needs more investigation. "
   ]
  },
  {
   "cell_type": "markdown",
   "metadata": {},
   "source": [
    "## Could it have been the hyperparameters?\n",
    "\n",
    "\n",
    "It seems that the \"too many steps\" phenomena were due to poor hyperparameter choices. "
   ]
  },
  {
   "cell_type": "code",
   "execution_count": null,
   "metadata": {},
   "outputs": [],
   "source": [
    "priors = [\"ibm2\", \"ioup2\", \"matern52\"]\n",
    "filters = [\"kf\", \"ekf\", \"ukf\"]\n",
    "\n",
    "initrv = RandomVariable(distribution=Dirac(np.array([20, 20])))\n",
    "t0, tmax = 0., 16\n",
    "ivp = lotkavolterra([t0, tmax], initrv)\n",
    "\n",
    "fig, ax = plt.subplots(nrows=len(priors), ncols=len(filters), sharex=True, sharey=True, figsize=(12, 12))\n",
    "\n",
    "for idx in range(len(priors)):   # priors in rows\n",
    "    for jdx in range(len(filters)):  # filters in cols\n",
    "        ms, cs, ts = filter_ivp(ivp, tol=0.125, firststep=None, evlvar=1e-04, lengthscale=8,\n",
    "                                which_prior=priors[idx], which_filt=filters[jdx])\n",
    "        ms1, cs1 = ms[:, 0], cs[:, 0, 0]\n",
    "        ms2, cs2 = ms[:, 3], cs[:, 3, 3]\n",
    "        ax[idx][jdx].plot(ts, ms1)\n",
    "        ax[idx][jdx].fill_between(ts, ms1-30*cs1, ms1+30*cs1, alpha=0.25)\n",
    "        ax[idx][jdx].plot(ts, ms2)\n",
    "        ax[idx][jdx].fill_between(ts, ms2-30*cs2, ms2+30*cs2, alpha=0.25)\n",
    "        for t in ts:\n",
    "            ax[idx][jdx].axvline(t, linewidth=0.05, color=\"black\")\n",
    "        ax[idx][jdx].set_title(priors[idx] + \" - \" + filters[jdx])\n",
    "        ax[idx][jdx].set_xlim((t0, tmax))\n",
    "        ax[idx][jdx].set_ylim((-10, 35))\n",
    "        ax[idx][jdx].set_title(priors[idx] + \" - \" + filters[jdx])\n",
    "plt.show()"
   ]
  },
  {
   "cell_type": "markdown",
   "metadata": {},
   "source": [
    "Unfortunately we have to adjust the evaluation variance in order to guarantee positive definiteness of the innovation term.\n",
    "\n",
    "The IBM prior essentially has no hyperparameters (except for the diffusion constant which gets calibrated in the end and is only responsible for the uncertainty estimates). Matern and IOUP however depend on length scale and drift speed, for example. If the lengthscale is increased from $1$ to $10$, the Matern solution roughly takes as many steps as the IBM prior. \n",
    "\n",
    "This also makes the Matern solution do much better on the noisy setting.\n",
    "\n",
    "The problem here is that in order to calibrate these hyperparameters in advance we cannot rely on usual GP tuning methods as the data is not available. It seems that setting it to lengthscale = 1/tol does a decent job, however, that is not theoretically sound at all."
   ]
  },
  {
   "cell_type": "markdown",
   "metadata": {},
   "source": [
    "## Future Work\n",
    "\n",
    "It seems to me that a necessary, but also very promising line of work is in hyperparameter tuning for IOUP and Matern priors. If this does well, that opens a lot of doors for reliable usage of these filters in interesting settings.\n",
    "\n",
    "It might also be interesting to think more about the relative error/absolute error relation. Of course, this goes hand in hand with the previous point (better hyperparameters give better error estimates which give more reasonable steps) but is an interesting and important question on its own."
   ]
  },
  {
   "cell_type": "code",
   "execution_count": null,
   "metadata": {},
   "outputs": [],
   "source": []
  }
 ],
 "metadata": {
  "kernelspec": {
   "display_name": "probnum_kernel",
   "language": "python",
   "name": "probnum_kernel"
  },
  "language_info": {
   "codemirror_mode": {
    "name": "ipython",
    "version": 3
   },
   "file_extension": ".py",
   "mimetype": "text/x-python",
   "name": "python",
   "nbconvert_exporter": "python",
   "pygments_lexer": "ipython3",
   "version": "3.7.7"
  }
 },
 "nbformat": 4,
 "nbformat_minor": 4
}
